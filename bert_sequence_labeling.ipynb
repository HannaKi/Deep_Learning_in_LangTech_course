{
  "nbformat": 4,
  "nbformat_minor": 0,
  "metadata": {
    "kernelspec": {
      "display_name": "Python 3",
      "language": "python",
      "name": "python3"
    },
    "language_info": {
      "codemirror_mode": {
        "name": "ipython",
        "version": 3
      },
      "file_extension": ".py",
      "mimetype": "text/x-python",
      "name": "python",
      "nbconvert_exporter": "python",
      "pygments_lexer": "ipython3",
      "version": "3.7.6"
    },
    "colab": {
      "name": "Copy of bert_sequence_labeling.ipynb",
      "provenance": [],
      "include_colab_link": true
    },
    "accelerator": "GPU"
  },
  "cells": [
    {
      "cell_type": "markdown",
      "metadata": {
        "id": "view-in-github",
        "colab_type": "text"
      },
      "source": [
        "<a href=\"https://colab.research.google.com/github/HannaKi/Deep_Learning_in_LangTech_course/blob/master/bert_sequence_labeling.ipynb\" target=\"_parent\"><img src=\"https://colab.research.google.com/assets/colab-badge.svg\" alt=\"Open In Colab\"/></a>"
      ]
    },
    {
      "cell_type": "markdown",
      "metadata": {
        "id": "rHm5_H4ikH0O",
        "colab_type": "text"
      },
      "source": [
        "# Sequence labeling with BERT\n",
        "\n",
        "This notebook briefly demonstrates fine-tuning a pretrained BERT model to a sequence labeling task.\n",
        "\n",
        "You probably want to run this notebook with GPU acceleration, as fine-tuning BERT on CPU can be fairly slow even with a comparatively small dataset."
      ]
    },
    {
      "cell_type": "markdown",
      "metadata": {
        "id": "4yzu-6aukH0R",
        "colab_type": "text"
      },
      "source": [
        "## Configuration\n",
        "\n",
        "The following variables configure a few aspects of the data, model, and training process. To adapt this example to a different dataset, you'll probably want to change these to match.\n",
        "\n",
        "Note in particular that we're limiting the number of examples and the maximum sequence length to make training faster. \n",
        "\n",
        "When running on GPU, it's also necessary to make sure that the input length and batch size are not so large as to cause a batch to exceed GPU memory. If you're getting a message like `Resource exhausted: OOM when allocating tensor`, try smaller numbers for these."
      ]
    },
    {
      "cell_type": "code",
      "metadata": {
        "id": "uFLbFfZBkH0V",
        "colab_type": "code",
        "colab": {}
      },
      "source": [
        "# Maximum number of examples to read\n",
        "MAX_EXAMPLES = 2000\n",
        "\n",
        "# Maximum length of input sequence in tokens\n",
        "INPUT_LENGTH = 25\n",
        "\n",
        "# Number of epochs to train for\n",
        "EPOCHS = 3\n",
        "\n",
        "# Optimizer learning rate\n",
        "LEARNING_RATE = 0.00002\n",
        "\n",
        "# Training batch size\n",
        "BATCH_SIZE = 8"
      ],
      "execution_count": 0,
      "outputs": []
    },
    {
      "cell_type": "markdown",
      "metadata": {
        "id": "EeolMun9kH0m",
        "colab_type": "text"
      },
      "source": [
        "## Package setup\n",
        "\n",
        "We'll use [keras-bert](https://github.com/CyberZHG/keras-bert). Make sure the package is installed. (`pip` is the Python [package installer](https://pip.pypa.io/en/stable/))"
      ]
    },
    {
      "cell_type": "code",
      "metadata": {
        "id": "WbLbruF8kH0n",
        "colab_type": "code",
        "outputId": "a5e40d07-4c26-46c6-9229-bea298c1b36e",
        "colab": {
          "base_uri": "https://localhost:8080/",
          "height": 1000
        }
      },
      "source": [
        "!pip3 install keras-bert"
      ],
      "execution_count": 2,
      "outputs": [
        {
          "output_type": "stream",
          "text": [
            "Collecting keras-bert\n",
            "  Downloading https://files.pythonhosted.org/packages/2c/0f/cdc886c1018943ea62d3209bc964413d5aa9d0eb7e493abd8545be679294/keras-bert-0.81.0.tar.gz\n",
            "Requirement already satisfied: numpy in /usr/local/lib/python3.6/dist-packages (from keras-bert) (1.18.3)\n",
            "Requirement already satisfied: Keras in /usr/local/lib/python3.6/dist-packages (from keras-bert) (2.3.1)\n",
            "Collecting keras-transformer>=0.30.0\n",
            "  Downloading https://files.pythonhosted.org/packages/22/b9/9040ec948ef895e71df6bee505a1f7e1c99ffedb409cb6eb329f04ece6e0/keras-transformer-0.33.0.tar.gz\n",
            "Requirement already satisfied: h5py in /usr/local/lib/python3.6/dist-packages (from Keras->keras-bert) (2.10.0)\n",
            "Requirement already satisfied: scipy>=0.14 in /usr/local/lib/python3.6/dist-packages (from Keras->keras-bert) (1.4.1)\n",
            "Requirement already satisfied: keras-preprocessing>=1.0.5 in /usr/local/lib/python3.6/dist-packages (from Keras->keras-bert) (1.1.0)\n",
            "Requirement already satisfied: pyyaml in /usr/local/lib/python3.6/dist-packages (from Keras->keras-bert) (3.13)\n",
            "Requirement already satisfied: keras-applications>=1.0.6 in /usr/local/lib/python3.6/dist-packages (from Keras->keras-bert) (1.0.8)\n",
            "Requirement already satisfied: six>=1.9.0 in /usr/local/lib/python3.6/dist-packages (from Keras->keras-bert) (1.12.0)\n",
            "Collecting keras-pos-embd>=0.10.0\n",
            "  Downloading https://files.pythonhosted.org/packages/09/70/b63ed8fc660da2bb6ae29b9895401c628da5740c048c190b5d7107cadd02/keras-pos-embd-0.11.0.tar.gz\n",
            "Collecting keras-multi-head>=0.22.0\n",
            "  Downloading https://files.pythonhosted.org/packages/40/3e/d0a64bb2ac5217928effe4507c26bbd19b86145d16a1948bc2d4f4c6338a/keras-multi-head-0.22.0.tar.gz\n",
            "Collecting keras-layer-normalization>=0.12.0\n",
            "  Downloading https://files.pythonhosted.org/packages/a4/0e/d1078df0494bac9ce1a67954e5380b6e7569668f0f3b50a9531c62c1fc4a/keras-layer-normalization-0.14.0.tar.gz\n",
            "Collecting keras-position-wise-feed-forward>=0.5.0\n",
            "  Downloading https://files.pythonhosted.org/packages/e3/59/f0faa1037c033059e7e9e7758e6c23b4d1c0772cd48de14c4b6fd4033ad5/keras-position-wise-feed-forward-0.6.0.tar.gz\n",
            "Collecting keras-embed-sim>=0.7.0\n",
            "  Downloading https://files.pythonhosted.org/packages/bc/20/735fd53f6896e2af63af47e212601c1b8a7a80d00b6126c388c9d1233892/keras-embed-sim-0.7.0.tar.gz\n",
            "Collecting keras-self-attention==0.41.0\n",
            "  Downloading https://files.pythonhosted.org/packages/1b/1c/01599219bef7266fa43b3316e4f55bcb487734d3bafdc60ffd564f3cfe29/keras-self-attention-0.41.0.tar.gz\n",
            "Building wheels for collected packages: keras-bert, keras-transformer, keras-pos-embd, keras-multi-head, keras-layer-normalization, keras-position-wise-feed-forward, keras-embed-sim, keras-self-attention\n",
            "  Building wheel for keras-bert (setup.py) ... \u001b[?25l\u001b[?25hdone\n",
            "  Created wheel for keras-bert: filename=keras_bert-0.81.0-cp36-none-any.whl size=37913 sha256=faa3afea3effd497b671abd1de3a8190c3abf53bc1d5cc71a9c5255a94644ccf\n",
            "  Stored in directory: /root/.cache/pip/wheels/bd/27/da/ffc2d573aa48b87440ec4f98bc7c992e3a2d899edb2d22ef9e\n",
            "  Building wheel for keras-transformer (setup.py) ... \u001b[?25l\u001b[?25hdone\n",
            "  Created wheel for keras-transformer: filename=keras_transformer-0.33.0-cp36-none-any.whl size=13260 sha256=deb55844f35d51b887d6a5db31f762750ded94dcee04ae9c8ad1b33f333a6d5a\n",
            "  Stored in directory: /root/.cache/pip/wheels/26/98/13/a28402939e1d48edd8704e6b02f223795af4a706815f4bf6d8\n",
            "  Building wheel for keras-pos-embd (setup.py) ... \u001b[?25l\u001b[?25hdone\n",
            "  Created wheel for keras-pos-embd: filename=keras_pos_embd-0.11.0-cp36-none-any.whl size=7554 sha256=2c3f8f697553410d6b97013934272577f8310a9d61615e85deaed2bd8ddab9eb\n",
            "  Stored in directory: /root/.cache/pip/wheels/5b/a1/a0/ce6b1d49ba1a9a76f592e70cf297b05c96bc9f418146761032\n",
            "  Building wheel for keras-multi-head (setup.py) ... \u001b[?25l\u001b[?25hdone\n",
            "  Created wheel for keras-multi-head: filename=keras_multi_head-0.22.0-cp36-none-any.whl size=15371 sha256=5ea1b2cdb88e9733698b5c75bb0ce0065524d8e565c9caafceda60e51058d679\n",
            "  Stored in directory: /root/.cache/pip/wheels/bb/df/3f/81b36f41b66e6a9cd69224c70a737de2bb6b2f7feb3272c25e\n",
            "  Building wheel for keras-layer-normalization (setup.py) ... \u001b[?25l\u001b[?25hdone\n",
            "  Created wheel for keras-layer-normalization: filename=keras_layer_normalization-0.14.0-cp36-none-any.whl size=5268 sha256=77c90a22cee779cddb008a09faaeecb89f574ef5d5102bdad115dac4e943d015\n",
            "  Stored in directory: /root/.cache/pip/wheels/54/80/22/a638a7d406fd155e507aa33d703e3fa2612b9eb7bb4f4fe667\n",
            "  Building wheel for keras-position-wise-feed-forward (setup.py) ... \u001b[?25l\u001b[?25hdone\n",
            "  Created wheel for keras-position-wise-feed-forward: filename=keras_position_wise_feed_forward-0.6.0-cp36-none-any.whl size=5623 sha256=7a80f40a07654965cf890e5700633bb8cf0e1c509939649ff1822c8bd55ab800\n",
            "  Stored in directory: /root/.cache/pip/wheels/39/e2/e2/3514fef126a00574b13bc0b9e23891800158df3a3c19c96e3b\n",
            "  Building wheel for keras-embed-sim (setup.py) ... \u001b[?25l\u001b[?25hdone\n",
            "  Created wheel for keras-embed-sim: filename=keras_embed_sim-0.7.0-cp36-none-any.whl size=4676 sha256=56da126dee544e8f41f9fc9f248c5289bff58e657411bf6c927849afc3680fdf\n",
            "  Stored in directory: /root/.cache/pip/wheels/d1/bc/b1/b0c45cee4ca2e6c86586b0218ffafe7f0703c6d07fdf049866\n",
            "  Building wheel for keras-self-attention (setup.py) ... \u001b[?25l\u001b[?25hdone\n",
            "  Created wheel for keras-self-attention: filename=keras_self_attention-0.41.0-cp36-none-any.whl size=17288 sha256=fe45dac8a003ab65dead20197ef06ce00b53d543b1998c02548563d9fc8a620d\n",
            "  Stored in directory: /root/.cache/pip/wheels/cc/dc/17/84258b27a04cd38ac91998abe148203720ca696186635db694\n",
            "Successfully built keras-bert keras-transformer keras-pos-embd keras-multi-head keras-layer-normalization keras-position-wise-feed-forward keras-embed-sim keras-self-attention\n",
            "Installing collected packages: keras-pos-embd, keras-self-attention, keras-multi-head, keras-layer-normalization, keras-position-wise-feed-forward, keras-embed-sim, keras-transformer, keras-bert\n",
            "Successfully installed keras-bert-0.81.0 keras-embed-sim-0.7.0 keras-layer-normalization-0.14.0 keras-multi-head-0.22.0 keras-pos-embd-0.11.0 keras-position-wise-feed-forward-0.6.0 keras-self-attention-0.41.0 keras-transformer-0.33.0\n"
          ],
          "name": "stdout"
        }
      ]
    },
    {
      "cell_type": "markdown",
      "metadata": {
        "id": "PA2U-TERkH0y",
        "colab_type": "text"
      },
      "source": [
        "## Tensorflow configuration\n",
        "\n",
        "We'll need set an environment variable for keras-bert to use `tensorflow.python.keras`. (This is a technical detail that is not related to the model.)"
      ]
    },
    {
      "cell_type": "code",
      "metadata": {
        "id": "VSd_XIeykH02",
        "colab_type": "code",
        "colab": {}
      },
      "source": [
        "import os\n",
        "\n",
        "\n",
        "os.environ['TF_KERAS'] = '1'    # Required to use tensorflow.python.keras with keras-bert"
      ],
      "execution_count": 0,
      "outputs": []
    },
    {
      "cell_type": "markdown",
      "metadata": {
        "id": "CsWvhUrlkH1A",
        "colab_type": "text"
      },
      "source": [
        "## Download dataset\n",
        "\n",
        "We'll use part-of-speech tags from a recent [Universal Dependencies]() version of the English [EWT corpus](https://nlp.stanford.edu/pubs/Gold_LREC14.pdf).\n",
        "\n",
        "Download the training and development subsets of the corpus data."
      ]
    },
    {
      "cell_type": "code",
      "metadata": {
        "id": "zep3b5LUkH1C",
        "colab_type": "code",
        "outputId": "be6588cd-8f83-4fb7-8ddd-5d610ad8ea73",
        "colab": {
          "base_uri": "https://localhost:8080/",
          "height": 613
        }
      },
      "source": [
        "# Give -nc (--no-clobber) argument so that the file isn't downloaded multiple times \n",
        "!wget -nc https://github.com/UniversalDependencies/UD_English-EWT/raw/master/en_ewt-ud-train.conllu\n",
        "!wget -nc https://github.com/UniversalDependencies/UD_English-EWT/raw/master/en_ewt-ud-dev.conllu"
      ],
      "execution_count": 4,
      "outputs": [
        {
          "output_type": "stream",
          "text": [
            "--2020-04-28 08:02:33--  https://github.com/UniversalDependencies/UD_English-EWT/raw/master/en_ewt-ud-train.conllu\n",
            "Resolving github.com (github.com)... 140.82.112.4\n",
            "Connecting to github.com (github.com)|140.82.112.4|:443... connected.\n",
            "HTTP request sent, awaiting response... 302 Found\n",
            "Location: https://raw.githubusercontent.com/UniversalDependencies/UD_English-EWT/master/en_ewt-ud-train.conllu [following]\n",
            "--2020-04-28 08:02:34--  https://raw.githubusercontent.com/UniversalDependencies/UD_English-EWT/master/en_ewt-ud-train.conllu\n",
            "Resolving raw.githubusercontent.com (raw.githubusercontent.com)... 151.101.0.133, 151.101.64.133, 151.101.128.133, ...\n",
            "Connecting to raw.githubusercontent.com (raw.githubusercontent.com)|151.101.0.133|:443... connected.\n",
            "HTTP request sent, awaiting response... 200 OK\n",
            "Length: 13303560 (13M) [text/plain]\n",
            "Saving to: ‘en_ewt-ud-train.conllu’\n",
            "\n",
            "en_ewt-ud-train.con 100%[===================>]  12.69M  29.4MB/s    in 0.4s    \n",
            "\n",
            "2020-04-28 08:02:35 (29.4 MB/s) - ‘en_ewt-ud-train.conllu’ saved [13303560/13303560]\n",
            "\n",
            "--2020-04-28 08:02:38--  https://github.com/UniversalDependencies/UD_English-EWT/raw/master/en_ewt-ud-dev.conllu\n",
            "Resolving github.com (github.com)... 140.82.112.4\n",
            "Connecting to github.com (github.com)|140.82.112.4|:443... connected.\n",
            "HTTP request sent, awaiting response... 302 Found\n",
            "Location: https://raw.githubusercontent.com/UniversalDependencies/UD_English-EWT/master/en_ewt-ud-dev.conllu [following]\n",
            "--2020-04-28 08:02:39--  https://raw.githubusercontent.com/UniversalDependencies/UD_English-EWT/master/en_ewt-ud-dev.conllu\n",
            "Resolving raw.githubusercontent.com (raw.githubusercontent.com)... 151.101.0.133, 151.101.64.133, 151.101.128.133, ...\n",
            "Connecting to raw.githubusercontent.com (raw.githubusercontent.com)|151.101.0.133|:443... connected.\n",
            "HTTP request sent, awaiting response... 200 OK\n",
            "Length: 1668224 (1.6M) [text/plain]\n",
            "Saving to: ‘en_ewt-ud-dev.conllu’\n",
            "\n",
            "en_ewt-ud-dev.conll 100%[===================>]   1.59M  9.03MB/s    in 0.2s    \n",
            "\n",
            "2020-04-28 08:02:40 (9.03 MB/s) - ‘en_ewt-ud-dev.conllu’ saved [1668224/1668224]\n",
            "\n"
          ],
          "name": "stdout"
        }
      ]
    },
    {
      "cell_type": "markdown",
      "metadata": {
        "id": "zREtF9uAkH1L",
        "colab_type": "text"
      },
      "source": [
        "## Load data\n",
        "\n",
        "The corpus is in [CoNLL-U](https://universaldependencies.org/format) format. We won't get into the details of the format here, as it's enough to know the following:\n",
        "\n",
        "* Lines beginning with `#` are comments and can be ignored\n",
        "* Empty lines delimit sentences\n",
        "* Remaining lines contain information on words, with fields separated by a tab\n",
        "* On lines where the first field is an integer (word index), the second field contains the word surface form, and the fourth the part-of-speech tag\n",
        "\n",
        "We'll grab the wordforms and POS tags and keep them organized by sentences.\n",
        "\n",
        "Note that before (potentially) truncating the examples to `MAX_EXAMPLES` we'll shuffle the list of sentences, but keep the words in their original order."
      ]
    },
    {
      "cell_type": "code",
      "metadata": {
        "id": "EQhxNyUYkH1O",
        "colab_type": "code",
        "outputId": "864cec69-83c3-4787-9d7b-ba87d1e615e6",
        "colab": {
          "base_uri": "https://localhost:8080/",
          "height": 408
        }
      },
      "source": [
        "import random\n",
        "\n",
        "\n",
        "random.seed(1234)    # This makes random.shuffle() produce the same order every time\n",
        "\n",
        "\n",
        "\n",
        "def load_conllu_tags(fn):\n",
        "    sentences = []\n",
        "    with open(fn) as f:\n",
        "        current = []\n",
        "        for line in f:\n",
        "            line = line.rstrip('\\n')\n",
        "            if line.startswith('#'):\n",
        "                continue    # Comment line, skip\n",
        "            if line == '' or line.isspace():\n",
        "                # Empty line, sentence boundary\n",
        "                sentences.append(current)\n",
        "                current = []\n",
        "                continue\n",
        "            fields = line.split('\\t')\n",
        "            if not fields[0].isdigit():\n",
        "                continue    # Not a regular word, skip\n",
        "            word, tag = fields[1], fields[3]\n",
        "            current.append((word, tag))\n",
        "            \n",
        "    random.shuffle(sentences)\n",
        "    if len(sentences) > MAX_EXAMPLES:\n",
        "        print('Note: truncating examples in {} from {} to {}'.format(fn, len(sentences), MAX_EXAMPLES))\n",
        "        sentences = sentences[:MAX_EXAMPLES]\n",
        "\n",
        "    return sentences\n",
        "\n",
        "\n",
        "train_sentences = load_conllu_tags('en_ewt-ud-train.conllu')\n",
        "dev_sentences = load_conllu_tags('en_ewt-ud-dev.conllu')\n",
        "\n",
        "\n",
        "# Have a look at the data\n",
        "print('\\nExample sentence:')\n",
        "for word, tag in train_sentences[0]:\n",
        "    print('{}\\t{}'.format(word, tag))"
      ],
      "execution_count": 5,
      "outputs": [
        {
          "output_type": "stream",
          "text": [
            "Note: truncating examples in en_ewt-ud-train.conllu from 12543 to 2000\n",
            "Note: truncating examples in en_ewt-ud-dev.conllu from 2002 to 2000\n",
            "\n",
            "Example sentence:\n",
            "They\tPRON\n",
            "had\tVERB\n",
            "a\tDET\n",
            "great\tADJ\n",
            "selection\tNOUN\n",
            "of\tADP\n",
            "colors\tNOUN\n",
            "to\tPART\n",
            "choose\tVERB\n",
            "from\tADP\n",
            "and\tCCONJ\n",
            "their\tPRON\n",
            "seats\tNOUN\n",
            "are\tAUX\n",
            "super\tADV\n",
            "comfty\tADJ\n",
            ".\tPUNCT\n"
          ],
          "name": "stdout"
        }
      ]
    },
    {
      "cell_type": "markdown",
      "metadata": {
        "id": "8yKXL-wwkH1Y",
        "colab_type": "text"
      },
      "source": [
        "## Download pretrained BERT model\n",
        "\n",
        "As training BERT from scratch generally takes days, we'll here load a pretrained model and fine-tune it for our task. URLs to download pre-trained models made available by Google are found at https://github.com/google-research/bert .\n",
        "\n",
        "`cased_L-12_H-768_A-12` is a case-sensitive BERT \"base\" model for English: 12 layers, 768-dimensional hidden state, and 12 \"heads\" for multi-head attention."
      ]
    },
    {
      "cell_type": "code",
      "metadata": {
        "id": "Uig18887kH1a",
        "colab_type": "code",
        "outputId": "72f7782e-1f0f-4c67-addc-a7c6dd586623",
        "colab": {
          "base_uri": "https://localhost:8080/",
          "height": 222
        }
      },
      "source": [
        "# Give -nc (--no-clobber) argument so that the file isn't downloaded multiple times \n",
        "!wget -nc https://storage.googleapis.com/bert_models/2018_10_18/cased_L-12_H-768_A-12.zip"
      ],
      "execution_count": 6,
      "outputs": [
        {
          "output_type": "stream",
          "text": [
            "--2020-04-28 08:06:28--  https://storage.googleapis.com/bert_models/2018_10_18/cased_L-12_H-768_A-12.zip\n",
            "Resolving storage.googleapis.com (storage.googleapis.com)... 74.125.204.128, 2404:6800:4008:c04::80\n",
            "Connecting to storage.googleapis.com (storage.googleapis.com)|74.125.204.128|:443... connected.\n",
            "HTTP request sent, awaiting response... 200 OK\n",
            "Length: 404261442 (386M) [application/zip]\n",
            "Saving to: ‘cased_L-12_H-768_A-12.zip’\n",
            "\n",
            "cased_L-12_H-768_A- 100%[===================>] 385.53M  70.0MB/s    in 5.9s    \n",
            "\n",
            "2020-04-28 08:06:34 (65.1 MB/s) - ‘cased_L-12_H-768_A-12.zip’ saved [404261442/404261442]\n",
            "\n"
          ],
          "name": "stdout"
        }
      ]
    },
    {
      "cell_type": "markdown",
      "metadata": {
        "id": "dsA5mNIHkH1g",
        "colab_type": "text"
      },
      "source": [
        "Unpack the downloaded file:"
      ]
    },
    {
      "cell_type": "code",
      "metadata": {
        "id": "enM6al7NkH1h",
        "colab_type": "code",
        "outputId": "cdbb63e5-c7fe-4ba0-976c-0b4b4e6e43bc",
        "colab": {
          "base_uri": "https://localhost:8080/",
          "height": 147
        }
      },
      "source": [
        "# Give -n argument so that existing files aren't overwritten \n",
        "!unzip -n cased_L-12_H-768_A-12.zip"
      ],
      "execution_count": 7,
      "outputs": [
        {
          "output_type": "stream",
          "text": [
            "Archive:  cased_L-12_H-768_A-12.zip\n",
            "   creating: cased_L-12_H-768_A-12/\n",
            "  inflating: cased_L-12_H-768_A-12/bert_model.ckpt.meta  \n",
            "  inflating: cased_L-12_H-768_A-12/bert_model.ckpt.data-00000-of-00001  \n",
            "  inflating: cased_L-12_H-768_A-12/vocab.txt  \n",
            "  inflating: cased_L-12_H-768_A-12/bert_model.ckpt.index  \n",
            "  inflating: cased_L-12_H-768_A-12/bert_config.json  \n"
          ],
          "name": "stdout"
        }
      ]
    },
    {
      "cell_type": "markdown",
      "metadata": {
        "id": "qvBsiqkdkH1q",
        "colab_type": "text"
      },
      "source": [
        "There are three key parts to the package contents:\n",
        "\n",
        "* `vocab.txt`: plain text file listing vocabulary items\n",
        "* `bert_config.json`: model configuration in JSON format\n",
        "* `bert_model.ckpt.*`: model checkpoint data with pre-trained weights in [Tensorflow checkpoint format](https://www.tensorflow.org/guide/checkpoint)\n",
        "\n",
        "Take note of the path to these (you'll need to change this if you pick a different model)"
      ]
    },
    {
      "cell_type": "code",
      "metadata": {
        "id": "6-2W-T1pkH1r",
        "colab_type": "code",
        "colab": {}
      },
      "source": [
        "bert_vocab_path = 'cased_L-12_H-768_A-12/vocab.txt'\n",
        "bert_config_path = 'cased_L-12_H-768_A-12/bert_config.json'\n",
        "bert_checkpoint_path = 'cased_L-12_H-768_A-12/bert_model.ckpt'    # suffixes not required"
      ],
      "execution_count": 0,
      "outputs": []
    },
    {
      "cell_type": "markdown",
      "metadata": {
        "id": "qLHwg4a2kH1z",
        "colab_type": "text"
      },
      "source": [
        "Also take note if the model we downloaded was a case-sensitive (cased) or not. (This must match the model.)"
      ]
    },
    {
      "cell_type": "code",
      "metadata": {
        "id": "e7gkHVo0kH10",
        "colab_type": "code",
        "colab": {}
      },
      "source": [
        "model_is_cased = True"
      ],
      "execution_count": 0,
      "outputs": []
    },
    {
      "cell_type": "markdown",
      "metadata": {
        "id": "o6vFxDn5kH1_",
        "colab_type": "text"
      },
      "source": [
        "## Load BERT vocabulary\n",
        "\n",
        "This is just a plain text file with one vocabulary item per line."
      ]
    },
    {
      "cell_type": "code",
      "metadata": {
        "id": "LMLxj8OOkH2A",
        "colab_type": "code",
        "outputId": "2e11249a-ee1e-491d-81e9-bc5e15646f1f",
        "colab": {
          "base_uri": "https://localhost:8080/",
          "height": 56
        }
      },
      "source": [
        "vocab = []\n",
        "with open(bert_vocab_path) as f:\n",
        "    for i, line in enumerate(f):\n",
        "        vocab.append(line.rstrip('\\n'))    # rstrip to remove newline characters\n",
        "\n",
        "\n",
        "# Print a list with every 500th vocabulary item\n",
        "print(vocab[0::500])"
      ],
      "execution_count": 10,
      "outputs": [
        {
          "output_type": "stream",
          "text": [
            "['[PAD]', 'щ', '吉', 'told', 'space', 'operations', 'proposed', 'Oxford', 'showing', 'domestic', 'mountains', 'commission', 'voices', 'associate', 'hills', 'Guide', 'relaxed', 'Page', 'Heights', 'singers', 'Interior', 'considers', 'facilitate', 'shouting', '1826', 'constitute', 'alter', 'clip', 'Into', 'Memory', 'ballad', 'Owens', 'Langdon', 'aquatic', 'stereo', 'Cass', 'Shock', '195', '##tec', '##sonic', 'attested', '##rdes', '1840s', '##90', 'Guys', '##rien', 'Munro', 'Ursula', 'mesh', 'diplomacy', 'Newmarket', '##oughs', 'synthesizers', 'Drugs', 'monstrous', '##ynamic', 'troll', '##ٹ']\n"
          ],
          "name": "stdout"
        }
      ]
    },
    {
      "cell_type": "markdown",
      "metadata": {
        "id": "jNWFcwnzkH2I",
        "colab_type": "text"
      },
      "source": [
        "## Load BERT configuration\n",
        "\n",
        "The configuration is just a JSON file, so we can read it in with `json.load` from the python `json` library.\n",
        "\n",
        "We won't actually need to use these configuration details directly (keras-bert takes care of them for us), so this is just here to show what information is contained in the config file."
      ]
    },
    {
      "cell_type": "code",
      "metadata": {
        "id": "fSyYNY3YkH2K",
        "colab_type": "code",
        "outputId": "83a5839d-b548-44b3-a0e1-63fd19eae901",
        "colab": {
          "base_uri": "https://localhost:8080/",
          "height": 222
        }
      },
      "source": [
        "import json\n",
        "\n",
        "from pprint import pprint    # pretty-printer for output\n",
        "\n",
        "\n",
        "with open(bert_config_path) as f:\n",
        "    config = json.load(f)\n",
        "\n",
        "\n",
        "# Print configuration contents\n",
        "pprint(config)"
      ],
      "execution_count": 11,
      "outputs": [
        {
          "output_type": "stream",
          "text": [
            "{'attention_probs_dropout_prob': 0.1,\n",
            " 'hidden_act': 'gelu',\n",
            " 'hidden_dropout_prob': 0.1,\n",
            " 'hidden_size': 768,\n",
            " 'initializer_range': 0.02,\n",
            " 'intermediate_size': 3072,\n",
            " 'max_position_embeddings': 512,\n",
            " 'num_attention_heads': 12,\n",
            " 'num_hidden_layers': 12,\n",
            " 'type_vocab_size': 2,\n",
            " 'vocab_size': 28996}\n"
          ],
          "name": "stdout"
        }
      ]
    },
    {
      "cell_type": "markdown",
      "metadata": {
        "id": "URbuHxJjkH2T",
        "colab_type": "text"
      },
      "source": [
        "## Create BERT tokenizer\n",
        "\n",
        "To create the tokenizer, we'll need a mapping from vocabulary items to their corresponding integer indices. We do this conventionally using `enumerate`."
      ]
    },
    {
      "cell_type": "code",
      "metadata": {
        "id": "Z482VBiYkH2T",
        "colab_type": "code",
        "outputId": "7cb1daa5-634a-4f2c-c51e-c51277db3d81",
        "colab": {
          "base_uri": "https://localhost:8080/",
          "height": 203
        }
      },
      "source": [
        "# Create mapping from vocabulary items to their indices in the vocabulary\n",
        "token_dict = { v: i for i, v in enumerate(vocab) }\n",
        "\n",
        "\n",
        "# Print some random examples of the mapping\n",
        "pprint(dict(random.choices(list(token_dict.items()), k=10)))"
      ],
      "execution_count": 12,
      "outputs": [
        {
          "output_type": "stream",
          "text": [
            "{'##umi': 14088,\n",
            " 'Helsinki': 12471,\n",
            " 'assassinated': 17493,\n",
            " 'brackets': 22019,\n",
            " 'drowned': 14100,\n",
            " 'educational': 4339,\n",
            " 'firmly': 7487,\n",
            " 'instincts': 17477,\n",
            " 'internet': 7210,\n",
            " 'nuts': 13937}\n"
          ],
          "name": "stdout"
        }
      ]
    },
    {
      "cell_type": "markdown",
      "metadata": {
        "id": "YHYjbPP-kH2b",
        "colab_type": "text"
      },
      "source": [
        "We'll use the keras-bert `Tokenizer` for BERT tokenization. The implementation supports\n",
        "\n",
        "* (Optional) lowercasing: `Hello` → `hello`\n",
        "* Basic tokenization: `Hello!` → `Hello` `!`, `multi-part` → `multi` `-` `part`\n",
        "* Wordpiece tokenization: `comprehensively` → `comprehensive` `##ly`\n",
        "* Adding special tokens: `Sentence`  → `[CLS]` `Sentence` `[SEP]`\n",
        "* Mapping to integer indices\n",
        "* Generating segment sequence\n",
        "* (Optional) padding and truncation to length\n",
        "\n",
        "In the following example, notice how words not in the dictionary are broken up into subwords (with continuation parts starting with `##`) and how unknown _characters_ are mapped to a special unknown word token `[UNK]`."
      ]
    },
    {
      "cell_type": "code",
      "metadata": {
        "id": "yRRXa6UzkH2c",
        "colab_type": "code",
        "outputId": "83b1b842-92f3-4777-b23e-6ef7200ebb9d",
        "colab": {
          "base_uri": "https://localhost:8080/",
          "height": 240
        }
      },
      "source": [
        "from keras_bert import Tokenizer\n",
        "\n",
        "\n",
        "tokenizer = Tokenizer(token_dict, cased=model_is_cased)\n",
        "\n",
        "\n",
        "# Let's test that out\n",
        "for s in ['Hello BERT!', 'Unknown: 你']:\n",
        "    print('Original string:', s)\n",
        "    print('Tokenized:', tokenizer.tokenize(s))\n",
        "    indices, segments = tokenizer.encode(s, max_len=20)    # max_len for padding and truncation\n",
        "    print('Encoded:', indices)\n",
        "    print('Segments:', segments)\n",
        "    print('Decoded:', ' '.join(tokenizer.decode(indices)))\n",
        "    print()"
      ],
      "execution_count": 13,
      "outputs": [
        {
          "output_type": "stream",
          "text": [
            "Original string: Hello BERT!\n",
            "Tokenized: ['[CLS]', 'Hello', 'B', '##ER', '##T', '!', '[SEP]']\n",
            "Encoded: [101, 8667, 139, 9637, 1942, 106, 102, 0, 0, 0, 0, 0, 0, 0, 0, 0, 0, 0, 0, 0]\n",
            "Segments: [0, 0, 0, 0, 0, 0, 0, 0, 0, 0, 0, 0, 0, 0, 0, 0, 0, 0, 0, 0]\n",
            "Decoded: Hello B ##ER ##T !\n",
            "\n",
            "Original string: Unknown: 你\n",
            "Tokenized: ['[CLS]', 'Unknown', ':', '你', '[SEP]']\n",
            "Encoded: [101, 16285, 131, 100, 102, 0, 0, 0, 0, 0, 0, 0, 0, 0, 0, 0, 0, 0, 0, 0]\n",
            "Segments: [0, 0, 0, 0, 0, 0, 0, 0, 0, 0, 0, 0, 0, 0, 0, 0, 0, 0, 0, 0]\n",
            "Decoded: Unknown : [UNK]\n",
            "\n"
          ],
          "name": "stdout"
        }
      ]
    },
    {
      "cell_type": "markdown",
      "metadata": {
        "id": "ZoIotmcIkH2l",
        "colab_type": "text"
      },
      "source": [
        "## Vectorize data\n",
        "\n",
        "We'll use keras-bert `Tokenizer` to tokenize and vectorize words. For vectorizing labels (tags), we'll create a simple mapping ourselves.\n",
        "\n",
        "We'll also add a special placeholder label `NO_LABEL` for padding and continuation wordpieces (more on that below)."
      ]
    },
    {
      "cell_type": "code",
      "metadata": {
        "id": "agbw4qHFkH2m",
        "colab_type": "code",
        "outputId": "b1d9790b-7e5d-4aca-813e-e57ed3c7f76c",
        "colab": {
          "base_uri": "https://localhost:8080/",
          "height": 111
        }
      },
      "source": [
        "# This is our special placeholder label value\n",
        "NO_LABEL = 'NONE'\n",
        "\n",
        "\n",
        "# This just flattens out tags from the sentences list-of-lists\n",
        "train_tags = [tag for sentence in train_sentences for word, tag in sentence]\n",
        "# Use set() to get the unique tags and add our special label to the list\n",
        "unique_tags = [NO_LABEL] + sorted(set(train_tags))\n",
        "\n",
        "# Create mappings from tags to integer values and back\n",
        "tag_to_int = { t: i for i, t in enumerate(unique_tags) }\n",
        "int_to_tag = { i: t for t, i in tag_to_int.items() }\n",
        "\n",
        "# Take note of how many unique labels (tags) there are in the data\n",
        "num_labels = len(unique_tags)\n",
        "\n",
        "\n",
        "# Let's see what we got\n",
        "print('Number of unique labels:', num_labels)\n",
        "print('Tags:', unique_tags)\n",
        "print('Mapping:', tag_to_int)\n",
        "print('Inverted:', int_to_tag)"
      ],
      "execution_count": 14,
      "outputs": [
        {
          "output_type": "stream",
          "text": [
            "Number of unique labels: 18\n",
            "Tags: ['NONE', 'ADJ', 'ADP', 'ADV', 'AUX', 'CCONJ', 'DET', 'INTJ', 'NOUN', 'NUM', 'PART', 'PRON', 'PROPN', 'PUNCT', 'SCONJ', 'SYM', 'VERB', 'X']\n",
            "Mapping: {'NONE': 0, 'ADJ': 1, 'ADP': 2, 'ADV': 3, 'AUX': 4, 'CCONJ': 5, 'DET': 6, 'INTJ': 7, 'NOUN': 8, 'NUM': 9, 'PART': 10, 'PRON': 11, 'PROPN': 12, 'PUNCT': 13, 'SCONJ': 14, 'SYM': 15, 'VERB': 16, 'X': 17}\n",
            "Inverted: {0: 'NONE', 1: 'ADJ', 2: 'ADP', 3: 'ADV', 4: 'AUX', 5: 'CCONJ', 6: 'DET', 7: 'INTJ', 8: 'NOUN', 9: 'NUM', 10: 'PART', 11: 'PRON', 12: 'PROPN', 13: 'PUNCT', 14: 'SCONJ', 15: 'SYM', 16: 'VERB', 17: 'X'}\n"
          ],
          "name": "stdout"
        }
      ]
    },
    {
      "cell_type": "markdown",
      "metadata": {
        "id": "6tXb8XU4kH2u",
        "colab_type": "text"
      },
      "source": [
        "The source data has one tag for each (syntactic) word. If we were training a model from scratch, we could define the tokenization to match the data so that we would get a simply one-to-one mapping between input words and output tags. However, as we're using a pre-trained model, we need to work with the existing tokenization, which may split up some of the input words into multiple parts.\n",
        "\n",
        "For example, if the data contains the word, tag pair `(complicatedly, ADV)` and the tokenizer splits up the word into `complicated` `##ly`, we have two tokens (`complicated` and `##ly`) but just one tag (`ADV`). There are a number of ways we could resolve this. Here, we will assign the original tag to the first wordpiece and the placeholder tag we introduced earlier to any subsequent pieces, so e.g. `(complicatedly, ADV)` would map to `(complicated, ADV)`, `(##ly, NONE)`."
      ]
    },
    {
      "cell_type": "markdown",
      "metadata": {
        "id": "QTx-oHKk4q0j",
        "colab_type": "text"
      },
      "source": [
        "![image.png](data:image/png;base64,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)"
      ]
    },
    {
      "cell_type": "code",
      "metadata": {
        "id": "Kz55jEdjkH2v",
        "colab_type": "code",
        "outputId": "31d6b87d-0038-4547-aead-079e2251f291",
        "colab": {
          "base_uri": "https://localhost:8080/",
          "height": 333
        }
      },
      "source": [
        "import numpy as np\n",
        "\n",
        "\n",
        "def tokenize_word(word):\n",
        "    # keras-bert tokenizer wraps its inputs with the special BERT tokens\n",
        "    # [CLS] and [SEP]. To tokenize individual words, we remove these.\n",
        "    wrapped = tokenizer.tokenize(word)\n",
        "    return wrapped[1:-1]    # remove [CLS] at the first and [SEP] at the last position\n",
        "\n",
        "\n",
        "def tokenize_sentence(sentence):\n",
        "    tokenized = []\n",
        "    for word, tag in sentence:\n",
        "        tokens = tokenize_word(word) # tokenize words\n",
        "        # Original tag for first wordpiece, fill in placeholder tags for\n",
        "        # any continuation pieces.\n",
        "        tags = [tag] + [NO_LABEL] * (len(tokens)-1)\n",
        "        tokenized.append((tokens, tags)) \n",
        "    return tokenized\n",
        "\n",
        "\n",
        "def tokenize_sentences(sentences):\n",
        "    return [tokenize_sentence(s) for s in sentences]\n",
        "\n",
        "\n",
        "tokenized_train = tokenize_sentences(train_sentences)\n",
        "tokenized_dev = tokenize_sentences(dev_sentences)\n",
        "\n",
        "\n",
        "# Let's look at an example sentence after tokenization\n",
        "for tokens, tags in tokenized_train[0]:\n",
        "    print(tokens, tags)"
      ],
      "execution_count": 15,
      "outputs": [
        {
          "output_type": "stream",
          "text": [
            "['They'] ['PRON']\n",
            "['had'] ['VERB']\n",
            "['a'] ['DET']\n",
            "['great'] ['ADJ']\n",
            "['selection'] ['NOUN']\n",
            "['of'] ['ADP']\n",
            "['colors'] ['NOUN']\n",
            "['to'] ['PART']\n",
            "['choose'] ['VERB']\n",
            "['from'] ['ADP']\n",
            "['and'] ['CCONJ']\n",
            "['their'] ['PRON']\n",
            "['seats'] ['NOUN']\n",
            "['are'] ['AUX']\n",
            "['super'] ['ADV']\n",
            "['com', '##fty'] ['ADJ', 'NONE']\n",
            "['.'] ['PUNCT']\n"
          ],
          "name": "stdout"
        }
      ]
    },
    {
      "cell_type": "markdown",
      "metadata": {
        "id": "DE-Zu7OHkH23",
        "colab_type": "text"
      },
      "source": [
        "To vectorize a tokenized sentence and its labels, we'll truncate to target length, add the special BERT tokens `[CLS]` and `[SEP]` (and corresponding placeholder labels), pad to length with the special `[PAD]` token if necessary, and map both tokens and tags to integer indices."
      ]
    },
    {
      "cell_type": "code",
      "metadata": {
        "id": "dqb8h3QgkH25",
        "colab_type": "code",
        "outputId": "2c2fe96b-4731-4e02-fdc9-c4d38ba1922b",
        "colab": {
          "base_uri": "https://localhost:8080/",
          "height": 836
        }
      },
      "source": [
        "from tensorflow.keras.utils import to_categorical\n",
        "\n",
        "\n",
        "def vectorize_tokenized(tokenized, length=INPUT_LENGTH):\n",
        "    # Flatten lists-of-lists of tokens and tags\n",
        "    token_sequence, tag_sequence = [], []\n",
        "    for tokens, tags in tokenized:\n",
        "        token_sequence.extend(tokens)\n",
        "        tag_sequence.extend(tags)\n",
        "\n",
        "    # Truncation and padding using length-2 to leave space for\n",
        "    # wrapping with the special [CLS] and [SEP] tokens\n",
        "    if len(token_sequence) > length-2:\n",
        "        token_sequence = token_sequence[:length-2]\n",
        "        tag_sequence = tag_sequence[:length-2]\n",
        "\n",
        "    # Wrap with [CLS] and [SEP], adding corresponding placeholder labels\n",
        "    token_sequence = ['[CLS]'] + token_sequence + ['[SEP]']\n",
        "    tag_sequence = [NO_LABEL] + tag_sequence + [NO_LABEL]\n",
        "\n",
        "    while len(token_sequence) < length:\n",
        "        token_sequence.append('[PAD]')\n",
        "        tag_sequence.append(NO_LABEL)\n",
        "    \n",
        "    # Use keras-bert tokenizer and previously created label mapping\n",
        "    token_ids = tokenizer._convert_tokens_to_ids(token_sequence)\n",
        "    tag_ids = [tag_to_int[tag] for tag in tag_sequence]\n",
        "    \n",
        "    # Also create all-zeros segment IDs for BERT\n",
        "    segment_ids = [0] * INPUT_LENGTH\n",
        "\n",
        "    return token_ids, segment_ids, tag_ids\n",
        "\n",
        "\n",
        "def vectorize_dataset(tokenized_data, length=INPUT_LENGTH):\n",
        "    # Create separate lists of token ID, segment ID, and tag ID lists,\n",
        "    # each of the inner lists representing one sentence.\n",
        "    token_ids_list, segment_ids_list, tag_ids_list = [], [], []\n",
        "    for tokenized in tokenized_data:\n",
        "        token_ids, segment_ids, tag_ids = vectorize_tokenized(tokenized, length=length)\n",
        "        token_ids_list.append(token_ids)\n",
        "        segment_ids_list.append(segment_ids)\n",
        "        tag_ids_list.append(tag_ids)\n",
        "\n",
        "    # Return as numpy arrays. Input (X) consists of the token and\n",
        "    # segment IDs, output (Y) of the tag ids. We'll use a one-hot\n",
        "    # representation for the output.\n",
        "    X = [np.array(token_ids_list), np.array(segment_ids_list)]\n",
        "    Y = to_categorical(np.array(tag_ids_list))\n",
        "\n",
        "    return X, Y\n",
        "    \n",
        "\n",
        "train_X, train_Y = vectorize_dataset(tokenized_train)\n",
        "dev_X, dev_Y = vectorize_dataset(tokenized_dev)\n",
        "\n",
        "\n",
        "# Let's have a bit of a look at that\n",
        "print('train_X[0].shape:', train_X[0].shape)\n",
        "print('train_X[1].shape:', train_X[1].shape)\n",
        "print('train_Y[0].shape:', train_Y[0].shape)\n",
        "print()\n",
        "print('train_X[0][0] (first sentence token IDs):')\n",
        "print(train_X[0][0])\n",
        "print()\n",
        "print('train_X[1][0] (first sentence segment IDs):')\n",
        "print(train_X[1][0])\n",
        "print()\n",
        "print('train_Y[0][0] (first sentence tag IDs):')\n",
        "print(train_Y[0])\n",
        "print()\n",
        "print('decoded train_X[0][0] (first sentence tokens):')\n",
        "print(' '.join([tokenizer._token_dict_inv[t] for t in train_X[0][0]]))\n",
        "print()\n",
        "print('decoded train_Y[0] (first sentence tags):')\n",
        "print(' '.join([int_to_tag[t.argmax()] for t in train_Y[0]]))"
      ],
      "execution_count": 17,
      "outputs": [
        {
          "output_type": "stream",
          "text": [
            "train_X[0].shape: (2000, 25)\n",
            "train_X[1].shape: (2000, 25)\n",
            "train_Y[0].shape: (25, 18)\n",
            "\n",
            "train_X[0][0] (first sentence token IDs):\n",
            "[  101  1220  1125   170  1632  4557  1104  5769  1106  4835  1121  1105\n",
            "  1147  3474  1132  7688  3254 27944   119   102     0     0     0     0\n",
            "     0]\n",
            "\n",
            "train_X[1][0] (first sentence segment IDs):\n",
            "[0 0 0 0 0 0 0 0 0 0 0 0 0 0 0 0 0 0 0 0 0 0 0 0 0]\n",
            "\n",
            "train_Y[0][0] (first sentence tag IDs):\n",
            "[[1. 0. 0. 0. 0. 0. 0. 0. 0. 0. 0. 0. 0. 0. 0. 0. 0. 0.]\n",
            " [0. 0. 0. 0. 0. 0. 0. 0. 0. 0. 0. 1. 0. 0. 0. 0. 0. 0.]\n",
            " [0. 0. 0. 0. 0. 0. 0. 0. 0. 0. 0. 0. 0. 0. 0. 0. 1. 0.]\n",
            " [0. 0. 0. 0. 0. 0. 1. 0. 0. 0. 0. 0. 0. 0. 0. 0. 0. 0.]\n",
            " [0. 1. 0. 0. 0. 0. 0. 0. 0. 0. 0. 0. 0. 0. 0. 0. 0. 0.]\n",
            " [0. 0. 0. 0. 0. 0. 0. 0. 1. 0. 0. 0. 0. 0. 0. 0. 0. 0.]\n",
            " [0. 0. 1. 0. 0. 0. 0. 0. 0. 0. 0. 0. 0. 0. 0. 0. 0. 0.]\n",
            " [0. 0. 0. 0. 0. 0. 0. 0. 1. 0. 0. 0. 0. 0. 0. 0. 0. 0.]\n",
            " [0. 0. 0. 0. 0. 0. 0. 0. 0. 0. 1. 0. 0. 0. 0. 0. 0. 0.]\n",
            " [0. 0. 0. 0. 0. 0. 0. 0. 0. 0. 0. 0. 0. 0. 0. 0. 1. 0.]\n",
            " [0. 0. 1. 0. 0. 0. 0. 0. 0. 0. 0. 0. 0. 0. 0. 0. 0. 0.]\n",
            " [0. 0. 0. 0. 0. 1. 0. 0. 0. 0. 0. 0. 0. 0. 0. 0. 0. 0.]\n",
            " [0. 0. 0. 0. 0. 0. 0. 0. 0. 0. 0. 1. 0. 0. 0. 0. 0. 0.]\n",
            " [0. 0. 0. 0. 0. 0. 0. 0. 1. 0. 0. 0. 0. 0. 0. 0. 0. 0.]\n",
            " [0. 0. 0. 0. 1. 0. 0. 0. 0. 0. 0. 0. 0. 0. 0. 0. 0. 0.]\n",
            " [0. 0. 0. 1. 0. 0. 0. 0. 0. 0. 0. 0. 0. 0. 0. 0. 0. 0.]\n",
            " [0. 1. 0. 0. 0. 0. 0. 0. 0. 0. 0. 0. 0. 0. 0. 0. 0. 0.]\n",
            " [1. 0. 0. 0. 0. 0. 0. 0. 0. 0. 0. 0. 0. 0. 0. 0. 0. 0.]\n",
            " [0. 0. 0. 0. 0. 0. 0. 0. 0. 0. 0. 0. 0. 1. 0. 0. 0. 0.]\n",
            " [1. 0. 0. 0. 0. 0. 0. 0. 0. 0. 0. 0. 0. 0. 0. 0. 0. 0.]\n",
            " [1. 0. 0. 0. 0. 0. 0. 0. 0. 0. 0. 0. 0. 0. 0. 0. 0. 0.]\n",
            " [1. 0. 0. 0. 0. 0. 0. 0. 0. 0. 0. 0. 0. 0. 0. 0. 0. 0.]\n",
            " [1. 0. 0. 0. 0. 0. 0. 0. 0. 0. 0. 0. 0. 0. 0. 0. 0. 0.]\n",
            " [1. 0. 0. 0. 0. 0. 0. 0. 0. 0. 0. 0. 0. 0. 0. 0. 0. 0.]\n",
            " [1. 0. 0. 0. 0. 0. 0. 0. 0. 0. 0. 0. 0. 0. 0. 0. 0. 0.]]\n",
            "\n",
            "decoded train_X[0][0] (first sentence tokens):\n",
            "[CLS] They had a great selection of colors to choose from and their seats are super com ##fty . [SEP] [PAD] [PAD] [PAD] [PAD] [PAD]\n",
            "\n",
            "decoded train_Y[0] (first sentence tags):\n",
            "NONE PRON VERB DET ADJ NOUN ADP NOUN PART VERB ADP CCONJ PRON NOUN AUX ADV ADJ NONE PUNCT NONE NONE NONE NONE NONE NONE\n"
          ],
          "name": "stdout"
        }
      ]
    },
    {
      "cell_type": "markdown",
      "metadata": {
        "id": "978WQ_arkH2-",
        "colab_type": "text"
      },
      "source": [
        "## Load pretrained BERT model\n",
        "\n",
        "We'll use the keras-bert function `load_trained_model_from_checkpoint` to load the model from the checkpoint we downloaded earlier.\n",
        "\n",
        "Explanation for a few parameters from keras-bert documentation:\n",
        "\n",
        "* `training`: If `training`, the whole model will be returned. Otherwise, the MLM [masked language modeling] and NSP [next sentence prediction] parts will be ignored.\n",
        "* `trainable`: Whether the model is trainable. The default value is the same with `training`.\n",
        "\n",
        "We don't need the masked language modeling or next sentence prediction parts (these are primarily for pretraining), so we'll use `training=False` but `trainable=True`."
      ]
    },
    {
      "cell_type": "code",
      "metadata": {
        "id": "uOKfz8wekH3A",
        "colab_type": "code",
        "colab": {}
      },
      "source": [
        "from keras_bert import load_trained_model_from_checkpoint\n",
        "\n",
        "\n",
        "pretrained_model = load_trained_model_from_checkpoint(\n",
        "    config_file = bert_config_path,\n",
        "    checkpoint_file = bert_checkpoint_path,\n",
        "    training = False,\n",
        "    trainable = True,\n",
        "    seq_len = INPUT_LENGTH\n",
        ")"
      ],
      "execution_count": 0,
      "outputs": []
    },
    {
      "cell_type": "markdown",
      "metadata": {
        "id": "16efB1x0kH3L",
        "colab_type": "text"
      },
      "source": [
        "Let's have a bit of a look at that model"
      ]
    },
    {
      "cell_type": "code",
      "metadata": {
        "id": "aNPM6VIFkH3X",
        "colab_type": "code",
        "outputId": "412d1467-2c84-493d-bfea-baf18961f89a",
        "colab": {
          "base_uri": "https://localhost:8080/",
          "height": 54
        }
      },
      "source": [
        "# This is a keras model, so we can figure out what inputs it takes like so:\n",
        "pretrained_model.inputs"
      ],
      "execution_count": 19,
      "outputs": [
        {
          "output_type": "execute_result",
          "data": {
            "text/plain": [
              "[<tf.Tensor 'Input-Token:0' shape=(None, 25) dtype=float32>,\n",
              " <tf.Tensor 'Input-Segment:0' shape=(None, 25) dtype=float32>]"
            ]
          },
          "metadata": {
            "tags": []
          },
          "execution_count": 19
        }
      ]
    },
    {
      "cell_type": "code",
      "metadata": {
        "id": "Dx2MuFQqkH3d",
        "colab_type": "code",
        "outputId": "2d0afa93-7aba-4cca-b491-f55fb8dcd951",
        "colab": {
          "base_uri": "https://localhost:8080/",
          "height": 36
        }
      },
      "source": [
        "# And similarly for outputs:\n",
        "pretrained_model.outputs"
      ],
      "execution_count": 20,
      "outputs": [
        {
          "output_type": "execute_result",
          "data": {
            "text/plain": [
              "[<tf.Tensor 'Encoder-12-FeedForward-Norm/Identity:0' shape=(None, 25, 768) dtype=float32>]"
            ]
          },
          "metadata": {
            "tags": []
          },
          "execution_count": 20
        }
      ]
    },
    {
      "cell_type": "markdown",
      "metadata": {
        "id": "bpr3lbZ5kH3j",
        "colab_type": "text"
      },
      "source": [
        "So, the model takes `Input-Token` and `Input-Segment` inputs, both of dimension (batch-size, input-length), and produces a single output tensor of dimension (batch-size, input-length, hidden-dim). This is just what we want for sequence labeling."
      ]
    },
    {
      "cell_type": "code",
      "metadata": {
        "id": "excP_cuikH3l",
        "colab_type": "code",
        "outputId": "91104939-752f-4e7e-87d5-5f28f71ce67c",
        "colab": {
          "base_uri": "https://localhost:8080/",
          "height": 1000
        }
      },
      "source": [
        "pretrained_model.summary()"
      ],
      "execution_count": 21,
      "outputs": [
        {
          "output_type": "stream",
          "text": [
            "Model: \"model_1\"\n",
            "__________________________________________________________________________________________________\n",
            "Layer (type)                    Output Shape         Param #     Connected to                     \n",
            "==================================================================================================\n",
            "Input-Token (InputLayer)        [(None, 25)]         0                                            \n",
            "__________________________________________________________________________________________________\n",
            "Input-Segment (InputLayer)      [(None, 25)]         0                                            \n",
            "__________________________________________________________________________________________________\n",
            "Embedding-Token (TokenEmbedding [(None, 25, 768), (2 22268928    Input-Token[0][0]                \n",
            "__________________________________________________________________________________________________\n",
            "Embedding-Segment (Embedding)   (None, 25, 768)      1536        Input-Segment[0][0]              \n",
            "__________________________________________________________________________________________________\n",
            "Embedding-Token-Segment (Add)   (None, 25, 768)      0           Embedding-Token[0][0]            \n",
            "                                                                 Embedding-Segment[0][0]          \n",
            "__________________________________________________________________________________________________\n",
            "Embedding-Position (PositionEmb (None, 25, 768)      19200       Embedding-Token-Segment[0][0]    \n",
            "__________________________________________________________________________________________________\n",
            "Embedding-Dropout (Dropout)     (None, 25, 768)      0           Embedding-Position[0][0]         \n",
            "__________________________________________________________________________________________________\n",
            "Embedding-Norm (LayerNormalizat (None, 25, 768)      1536        Embedding-Dropout[0][0]          \n",
            "__________________________________________________________________________________________________\n",
            "Encoder-1-MultiHeadSelfAttentio (None, 25, 768)      2362368     Embedding-Norm[0][0]             \n",
            "__________________________________________________________________________________________________\n",
            "Encoder-1-MultiHeadSelfAttentio (None, 25, 768)      0           Encoder-1-MultiHeadSelfAttention[\n",
            "__________________________________________________________________________________________________\n",
            "Encoder-1-MultiHeadSelfAttentio (None, 25, 768)      0           Embedding-Norm[0][0]             \n",
            "                                                                 Encoder-1-MultiHeadSelfAttention-\n",
            "__________________________________________________________________________________________________\n",
            "Encoder-1-MultiHeadSelfAttentio (None, 25, 768)      1536        Encoder-1-MultiHeadSelfAttention-\n",
            "__________________________________________________________________________________________________\n",
            "Encoder-1-FeedForward (FeedForw (None, 25, 768)      4722432     Encoder-1-MultiHeadSelfAttention-\n",
            "__________________________________________________________________________________________________\n",
            "Encoder-1-FeedForward-Dropout ( (None, 25, 768)      0           Encoder-1-FeedForward[0][0]      \n",
            "__________________________________________________________________________________________________\n",
            "Encoder-1-FeedForward-Add (Add) (None, 25, 768)      0           Encoder-1-MultiHeadSelfAttention-\n",
            "                                                                 Encoder-1-FeedForward-Dropout[0][\n",
            "__________________________________________________________________________________________________\n",
            "Encoder-1-FeedForward-Norm (Lay (None, 25, 768)      1536        Encoder-1-FeedForward-Add[0][0]  \n",
            "__________________________________________________________________________________________________\n",
            "Encoder-2-MultiHeadSelfAttentio (None, 25, 768)      2362368     Encoder-1-FeedForward-Norm[0][0] \n",
            "__________________________________________________________________________________________________\n",
            "Encoder-2-MultiHeadSelfAttentio (None, 25, 768)      0           Encoder-2-MultiHeadSelfAttention[\n",
            "__________________________________________________________________________________________________\n",
            "Encoder-2-MultiHeadSelfAttentio (None, 25, 768)      0           Encoder-1-FeedForward-Norm[0][0] \n",
            "                                                                 Encoder-2-MultiHeadSelfAttention-\n",
            "__________________________________________________________________________________________________\n",
            "Encoder-2-MultiHeadSelfAttentio (None, 25, 768)      1536        Encoder-2-MultiHeadSelfAttention-\n",
            "__________________________________________________________________________________________________\n",
            "Encoder-2-FeedForward (FeedForw (None, 25, 768)      4722432     Encoder-2-MultiHeadSelfAttention-\n",
            "__________________________________________________________________________________________________\n",
            "Encoder-2-FeedForward-Dropout ( (None, 25, 768)      0           Encoder-2-FeedForward[0][0]      \n",
            "__________________________________________________________________________________________________\n",
            "Encoder-2-FeedForward-Add (Add) (None, 25, 768)      0           Encoder-2-MultiHeadSelfAttention-\n",
            "                                                                 Encoder-2-FeedForward-Dropout[0][\n",
            "__________________________________________________________________________________________________\n",
            "Encoder-2-FeedForward-Norm (Lay (None, 25, 768)      1536        Encoder-2-FeedForward-Add[0][0]  \n",
            "__________________________________________________________________________________________________\n",
            "Encoder-3-MultiHeadSelfAttentio (None, 25, 768)      2362368     Encoder-2-FeedForward-Norm[0][0] \n",
            "__________________________________________________________________________________________________\n",
            "Encoder-3-MultiHeadSelfAttentio (None, 25, 768)      0           Encoder-3-MultiHeadSelfAttention[\n",
            "__________________________________________________________________________________________________\n",
            "Encoder-3-MultiHeadSelfAttentio (None, 25, 768)      0           Encoder-2-FeedForward-Norm[0][0] \n",
            "                                                                 Encoder-3-MultiHeadSelfAttention-\n",
            "__________________________________________________________________________________________________\n",
            "Encoder-3-MultiHeadSelfAttentio (None, 25, 768)      1536        Encoder-3-MultiHeadSelfAttention-\n",
            "__________________________________________________________________________________________________\n",
            "Encoder-3-FeedForward (FeedForw (None, 25, 768)      4722432     Encoder-3-MultiHeadSelfAttention-\n",
            "__________________________________________________________________________________________________\n",
            "Encoder-3-FeedForward-Dropout ( (None, 25, 768)      0           Encoder-3-FeedForward[0][0]      \n",
            "__________________________________________________________________________________________________\n",
            "Encoder-3-FeedForward-Add (Add) (None, 25, 768)      0           Encoder-3-MultiHeadSelfAttention-\n",
            "                                                                 Encoder-3-FeedForward-Dropout[0][\n",
            "__________________________________________________________________________________________________\n",
            "Encoder-3-FeedForward-Norm (Lay (None, 25, 768)      1536        Encoder-3-FeedForward-Add[0][0]  \n",
            "__________________________________________________________________________________________________\n",
            "Encoder-4-MultiHeadSelfAttentio (None, 25, 768)      2362368     Encoder-3-FeedForward-Norm[0][0] \n",
            "__________________________________________________________________________________________________\n",
            "Encoder-4-MultiHeadSelfAttentio (None, 25, 768)      0           Encoder-4-MultiHeadSelfAttention[\n",
            "__________________________________________________________________________________________________\n",
            "Encoder-4-MultiHeadSelfAttentio (None, 25, 768)      0           Encoder-3-FeedForward-Norm[0][0] \n",
            "                                                                 Encoder-4-MultiHeadSelfAttention-\n",
            "__________________________________________________________________________________________________\n",
            "Encoder-4-MultiHeadSelfAttentio (None, 25, 768)      1536        Encoder-4-MultiHeadSelfAttention-\n",
            "__________________________________________________________________________________________________\n",
            "Encoder-4-FeedForward (FeedForw (None, 25, 768)      4722432     Encoder-4-MultiHeadSelfAttention-\n",
            "__________________________________________________________________________________________________\n",
            "Encoder-4-FeedForward-Dropout ( (None, 25, 768)      0           Encoder-4-FeedForward[0][0]      \n",
            "__________________________________________________________________________________________________\n",
            "Encoder-4-FeedForward-Add (Add) (None, 25, 768)      0           Encoder-4-MultiHeadSelfAttention-\n",
            "                                                                 Encoder-4-FeedForward-Dropout[0][\n",
            "__________________________________________________________________________________________________\n",
            "Encoder-4-FeedForward-Norm (Lay (None, 25, 768)      1536        Encoder-4-FeedForward-Add[0][0]  \n",
            "__________________________________________________________________________________________________\n",
            "Encoder-5-MultiHeadSelfAttentio (None, 25, 768)      2362368     Encoder-4-FeedForward-Norm[0][0] \n",
            "__________________________________________________________________________________________________\n",
            "Encoder-5-MultiHeadSelfAttentio (None, 25, 768)      0           Encoder-5-MultiHeadSelfAttention[\n",
            "__________________________________________________________________________________________________\n",
            "Encoder-5-MultiHeadSelfAttentio (None, 25, 768)      0           Encoder-4-FeedForward-Norm[0][0] \n",
            "                                                                 Encoder-5-MultiHeadSelfAttention-\n",
            "__________________________________________________________________________________________________\n",
            "Encoder-5-MultiHeadSelfAttentio (None, 25, 768)      1536        Encoder-5-MultiHeadSelfAttention-\n",
            "__________________________________________________________________________________________________\n",
            "Encoder-5-FeedForward (FeedForw (None, 25, 768)      4722432     Encoder-5-MultiHeadSelfAttention-\n",
            "__________________________________________________________________________________________________\n",
            "Encoder-5-FeedForward-Dropout ( (None, 25, 768)      0           Encoder-5-FeedForward[0][0]      \n",
            "__________________________________________________________________________________________________\n",
            "Encoder-5-FeedForward-Add (Add) (None, 25, 768)      0           Encoder-5-MultiHeadSelfAttention-\n",
            "                                                                 Encoder-5-FeedForward-Dropout[0][\n",
            "__________________________________________________________________________________________________\n",
            "Encoder-5-FeedForward-Norm (Lay (None, 25, 768)      1536        Encoder-5-FeedForward-Add[0][0]  \n",
            "__________________________________________________________________________________________________\n",
            "Encoder-6-MultiHeadSelfAttentio (None, 25, 768)      2362368     Encoder-5-FeedForward-Norm[0][0] \n",
            "__________________________________________________________________________________________________\n",
            "Encoder-6-MultiHeadSelfAttentio (None, 25, 768)      0           Encoder-6-MultiHeadSelfAttention[\n",
            "__________________________________________________________________________________________________\n",
            "Encoder-6-MultiHeadSelfAttentio (None, 25, 768)      0           Encoder-5-FeedForward-Norm[0][0] \n",
            "                                                                 Encoder-6-MultiHeadSelfAttention-\n",
            "__________________________________________________________________________________________________\n",
            "Encoder-6-MultiHeadSelfAttentio (None, 25, 768)      1536        Encoder-6-MultiHeadSelfAttention-\n",
            "__________________________________________________________________________________________________\n",
            "Encoder-6-FeedForward (FeedForw (None, 25, 768)      4722432     Encoder-6-MultiHeadSelfAttention-\n",
            "__________________________________________________________________________________________________\n",
            "Encoder-6-FeedForward-Dropout ( (None, 25, 768)      0           Encoder-6-FeedForward[0][0]      \n",
            "__________________________________________________________________________________________________\n",
            "Encoder-6-FeedForward-Add (Add) (None, 25, 768)      0           Encoder-6-MultiHeadSelfAttention-\n",
            "                                                                 Encoder-6-FeedForward-Dropout[0][\n",
            "__________________________________________________________________________________________________\n",
            "Encoder-6-FeedForward-Norm (Lay (None, 25, 768)      1536        Encoder-6-FeedForward-Add[0][0]  \n",
            "__________________________________________________________________________________________________\n",
            "Encoder-7-MultiHeadSelfAttentio (None, 25, 768)      2362368     Encoder-6-FeedForward-Norm[0][0] \n",
            "__________________________________________________________________________________________________\n",
            "Encoder-7-MultiHeadSelfAttentio (None, 25, 768)      0           Encoder-7-MultiHeadSelfAttention[\n",
            "__________________________________________________________________________________________________\n",
            "Encoder-7-MultiHeadSelfAttentio (None, 25, 768)      0           Encoder-6-FeedForward-Norm[0][0] \n",
            "                                                                 Encoder-7-MultiHeadSelfAttention-\n",
            "__________________________________________________________________________________________________\n",
            "Encoder-7-MultiHeadSelfAttentio (None, 25, 768)      1536        Encoder-7-MultiHeadSelfAttention-\n",
            "__________________________________________________________________________________________________\n",
            "Encoder-7-FeedForward (FeedForw (None, 25, 768)      4722432     Encoder-7-MultiHeadSelfAttention-\n",
            "__________________________________________________________________________________________________\n",
            "Encoder-7-FeedForward-Dropout ( (None, 25, 768)      0           Encoder-7-FeedForward[0][0]      \n",
            "__________________________________________________________________________________________________\n",
            "Encoder-7-FeedForward-Add (Add) (None, 25, 768)      0           Encoder-7-MultiHeadSelfAttention-\n",
            "                                                                 Encoder-7-FeedForward-Dropout[0][\n",
            "__________________________________________________________________________________________________\n",
            "Encoder-7-FeedForward-Norm (Lay (None, 25, 768)      1536        Encoder-7-FeedForward-Add[0][0]  \n",
            "__________________________________________________________________________________________________\n",
            "Encoder-8-MultiHeadSelfAttentio (None, 25, 768)      2362368     Encoder-7-FeedForward-Norm[0][0] \n",
            "__________________________________________________________________________________________________\n",
            "Encoder-8-MultiHeadSelfAttentio (None, 25, 768)      0           Encoder-8-MultiHeadSelfAttention[\n",
            "__________________________________________________________________________________________________\n",
            "Encoder-8-MultiHeadSelfAttentio (None, 25, 768)      0           Encoder-7-FeedForward-Norm[0][0] \n",
            "                                                                 Encoder-8-MultiHeadSelfAttention-\n",
            "__________________________________________________________________________________________________\n",
            "Encoder-8-MultiHeadSelfAttentio (None, 25, 768)      1536        Encoder-8-MultiHeadSelfAttention-\n",
            "__________________________________________________________________________________________________\n",
            "Encoder-8-FeedForward (FeedForw (None, 25, 768)      4722432     Encoder-8-MultiHeadSelfAttention-\n",
            "__________________________________________________________________________________________________\n",
            "Encoder-8-FeedForward-Dropout ( (None, 25, 768)      0           Encoder-8-FeedForward[0][0]      \n",
            "__________________________________________________________________________________________________\n",
            "Encoder-8-FeedForward-Add (Add) (None, 25, 768)      0           Encoder-8-MultiHeadSelfAttention-\n",
            "                                                                 Encoder-8-FeedForward-Dropout[0][\n",
            "__________________________________________________________________________________________________\n",
            "Encoder-8-FeedForward-Norm (Lay (None, 25, 768)      1536        Encoder-8-FeedForward-Add[0][0]  \n",
            "__________________________________________________________________________________________________\n",
            "Encoder-9-MultiHeadSelfAttentio (None, 25, 768)      2362368     Encoder-8-FeedForward-Norm[0][0] \n",
            "__________________________________________________________________________________________________\n",
            "Encoder-9-MultiHeadSelfAttentio (None, 25, 768)      0           Encoder-9-MultiHeadSelfAttention[\n",
            "__________________________________________________________________________________________________\n",
            "Encoder-9-MultiHeadSelfAttentio (None, 25, 768)      0           Encoder-8-FeedForward-Norm[0][0] \n",
            "                                                                 Encoder-9-MultiHeadSelfAttention-\n",
            "__________________________________________________________________________________________________\n",
            "Encoder-9-MultiHeadSelfAttentio (None, 25, 768)      1536        Encoder-9-MultiHeadSelfAttention-\n",
            "__________________________________________________________________________________________________\n",
            "Encoder-9-FeedForward (FeedForw (None, 25, 768)      4722432     Encoder-9-MultiHeadSelfAttention-\n",
            "__________________________________________________________________________________________________\n",
            "Encoder-9-FeedForward-Dropout ( (None, 25, 768)      0           Encoder-9-FeedForward[0][0]      \n",
            "__________________________________________________________________________________________________\n",
            "Encoder-9-FeedForward-Add (Add) (None, 25, 768)      0           Encoder-9-MultiHeadSelfAttention-\n",
            "                                                                 Encoder-9-FeedForward-Dropout[0][\n",
            "__________________________________________________________________________________________________\n",
            "Encoder-9-FeedForward-Norm (Lay (None, 25, 768)      1536        Encoder-9-FeedForward-Add[0][0]  \n",
            "__________________________________________________________________________________________________\n",
            "Encoder-10-MultiHeadSelfAttenti (None, 25, 768)      2362368     Encoder-9-FeedForward-Norm[0][0] \n",
            "__________________________________________________________________________________________________\n",
            "Encoder-10-MultiHeadSelfAttenti (None, 25, 768)      0           Encoder-10-MultiHeadSelfAttention\n",
            "__________________________________________________________________________________________________\n",
            "Encoder-10-MultiHeadSelfAttenti (None, 25, 768)      0           Encoder-9-FeedForward-Norm[0][0] \n",
            "                                                                 Encoder-10-MultiHeadSelfAttention\n",
            "__________________________________________________________________________________________________\n",
            "Encoder-10-MultiHeadSelfAttenti (None, 25, 768)      1536        Encoder-10-MultiHeadSelfAttention\n",
            "__________________________________________________________________________________________________\n",
            "Encoder-10-FeedForward (FeedFor (None, 25, 768)      4722432     Encoder-10-MultiHeadSelfAttention\n",
            "__________________________________________________________________________________________________\n",
            "Encoder-10-FeedForward-Dropout  (None, 25, 768)      0           Encoder-10-FeedForward[0][0]     \n",
            "__________________________________________________________________________________________________\n",
            "Encoder-10-FeedForward-Add (Add (None, 25, 768)      0           Encoder-10-MultiHeadSelfAttention\n",
            "                                                                 Encoder-10-FeedForward-Dropout[0]\n",
            "__________________________________________________________________________________________________\n",
            "Encoder-10-FeedForward-Norm (La (None, 25, 768)      1536        Encoder-10-FeedForward-Add[0][0] \n",
            "__________________________________________________________________________________________________\n",
            "Encoder-11-MultiHeadSelfAttenti (None, 25, 768)      2362368     Encoder-10-FeedForward-Norm[0][0]\n",
            "__________________________________________________________________________________________________\n",
            "Encoder-11-MultiHeadSelfAttenti (None, 25, 768)      0           Encoder-11-MultiHeadSelfAttention\n",
            "__________________________________________________________________________________________________\n",
            "Encoder-11-MultiHeadSelfAttenti (None, 25, 768)      0           Encoder-10-FeedForward-Norm[0][0]\n",
            "                                                                 Encoder-11-MultiHeadSelfAttention\n",
            "__________________________________________________________________________________________________\n",
            "Encoder-11-MultiHeadSelfAttenti (None, 25, 768)      1536        Encoder-11-MultiHeadSelfAttention\n",
            "__________________________________________________________________________________________________\n",
            "Encoder-11-FeedForward (FeedFor (None, 25, 768)      4722432     Encoder-11-MultiHeadSelfAttention\n",
            "__________________________________________________________________________________________________\n",
            "Encoder-11-FeedForward-Dropout  (None, 25, 768)      0           Encoder-11-FeedForward[0][0]     \n",
            "__________________________________________________________________________________________________\n",
            "Encoder-11-FeedForward-Add (Add (None, 25, 768)      0           Encoder-11-MultiHeadSelfAttention\n",
            "                                                                 Encoder-11-FeedForward-Dropout[0]\n",
            "__________________________________________________________________________________________________\n",
            "Encoder-11-FeedForward-Norm (La (None, 25, 768)      1536        Encoder-11-FeedForward-Add[0][0] \n",
            "__________________________________________________________________________________________________\n",
            "Encoder-12-MultiHeadSelfAttenti (None, 25, 768)      2362368     Encoder-11-FeedForward-Norm[0][0]\n",
            "__________________________________________________________________________________________________\n",
            "Encoder-12-MultiHeadSelfAttenti (None, 25, 768)      0           Encoder-12-MultiHeadSelfAttention\n",
            "__________________________________________________________________________________________________\n",
            "Encoder-12-MultiHeadSelfAttenti (None, 25, 768)      0           Encoder-11-FeedForward-Norm[0][0]\n",
            "                                                                 Encoder-12-MultiHeadSelfAttention\n",
            "__________________________________________________________________________________________________\n",
            "Encoder-12-MultiHeadSelfAttenti (None, 25, 768)      1536        Encoder-12-MultiHeadSelfAttention\n",
            "__________________________________________________________________________________________________\n",
            "Encoder-12-FeedForward (FeedFor (None, 25, 768)      4722432     Encoder-12-MultiHeadSelfAttention\n",
            "__________________________________________________________________________________________________\n",
            "Encoder-12-FeedForward-Dropout  (None, 25, 768)      0           Encoder-12-FeedForward[0][0]     \n",
            "__________________________________________________________________________________________________\n",
            "Encoder-12-FeedForward-Add (Add (None, 25, 768)      0           Encoder-12-MultiHeadSelfAttention\n",
            "                                                                 Encoder-12-FeedForward-Dropout[0]\n",
            "__________________________________________________________________________________________________\n",
            "Encoder-12-FeedForward-Norm (La (None, 25, 768)      1536        Encoder-12-FeedForward-Add[0][0] \n",
            "==================================================================================================\n",
            "Total params: 107,345,664\n",
            "Trainable params: 107,345,664\n",
            "Non-trainable params: 0\n",
            "__________________________________________________________________________________________________\n"
          ],
          "name": "stdout"
        }
      ]
    },
    {
      "cell_type": "markdown",
      "metadata": {
        "id": "WQB-T019kH3t",
        "colab_type": "text"
      },
      "source": [
        "This is a regular Keras model. In Keras, models behave very much like layers, so we're able to wrap this in our own model."
      ]
    },
    {
      "cell_type": "markdown",
      "metadata": {
        "id": "gzFKNbUlkH3y",
        "colab_type": "text"
      },
      "source": [
        "## Build sequence labeling model\n",
        "\n",
        "We'll make a _very_ simple model for sequence labeling: just attach a time-distributed dense layer with softmax activation to the output, and connect the model inputs to the BERT model inputs."
      ]
    },
    {
      "cell_type": "code",
      "metadata": {
        "id": "nVvG9L2_kH30",
        "colab_type": "code",
        "outputId": "8cccfbb2-5c00-401a-f57b-7e43294e6ace",
        "colab": {
          "base_uri": "https://localhost:8080/",
          "height": 36
        }
      },
      "source": [
        "# model.outputs is a list, here with a single item. We'll\n",
        "# add our output layer on top of that.\n",
        "bert_out = pretrained_model.outputs[0]\n",
        "\n",
        "print(bert_out)"
      ],
      "execution_count": 23,
      "outputs": [
        {
          "output_type": "stream",
          "text": [
            "Tensor(\"Encoder-12-FeedForward-Norm/Identity:0\", shape=(None, 25, 768), dtype=float32)\n"
          ],
          "name": "stdout"
        }
      ]
    },
    {
      "cell_type": "markdown",
      "metadata": {
        "id": "m8evipa1kH36",
        "colab_type": "text"
      },
      "source": [
        "The model is standard Keras, where the pretrained BERT model is behaving essentially as a layer of our \"wrapping\" model."
      ]
    },
    {
      "cell_type": "code",
      "metadata": {
        "id": "dld4TorVkH38",
        "colab_type": "code",
        "colab": {}
      },
      "source": [
        "from tensorflow.keras.models import Model\n",
        "from tensorflow.keras.layers import TimeDistributed, Dense\n",
        "\n",
        "\n",
        "out = TimeDistributed(Dense(num_labels, activation='softmax'))(bert_out)\n",
        "model = Model(\n",
        "    inputs=pretrained_model.inputs,\n",
        "    outputs=[out]\n",
        ")"
      ],
      "execution_count": 0,
      "outputs": []
    },
    {
      "cell_type": "markdown",
      "metadata": {
        "id": "eBcDJFerkH4C",
        "colab_type": "text"
      },
      "source": [
        "## Create optimizer\n",
        "\n",
        "BERT is pretrained with an Adam optimizer with warmup and regularization using weight decay. We won't go into detail on these optimizer settings, but will instead largely copy parameters used in the original BERT work.\n",
        "\n",
        "(If you're interested in tuning the training process, trying different values of `LEARNING_RATE` is a good place to start!)"
      ]
    },
    {
      "cell_type": "code",
      "metadata": {
        "id": "SgGzGDEqkH4D",
        "colab_type": "code",
        "colab": {}
      },
      "source": [
        "from keras_bert import calc_train_steps, AdamWarmup\n",
        "\n",
        "\n",
        "# Calculate the number of steps for warmup\n",
        "total_steps, warmup_steps = calc_train_steps(\n",
        "    num_example=len(train_sentences),\n",
        "    batch_size=BATCH_SIZE,\n",
        "    epochs=EPOCHS,\n",
        "    warmup_proportion=0.1,\n",
        ")\n",
        "\n",
        "optimizer = AdamWarmup(\n",
        "    total_steps,\n",
        "    warmup_steps,\n",
        "    lr=LEARNING_RATE,\n",
        "    epsilon=1e-6,\n",
        "    weight_decay=0.01,\n",
        "    weight_decay_pattern=['embeddings', 'kernel', 'W1', 'W2', 'Wk', 'Wq', 'Wv', 'Wo']\n",
        ")"
      ],
      "execution_count": 0,
      "outputs": []
    },
    {
      "cell_type": "markdown",
      "metadata": {
        "id": "0q5sUUtjkH4J",
        "colab_type": "text"
      },
      "source": [
        "## Evaluation metric\n",
        "\n",
        "We'll define a modification of the `categorical_accuracy` metric that ignores the `NO_LABEL` values in the gold data, thus only focusing on predictions for the \"real\" labels.\n",
        "\n",
        "The implementation is a modification of https://github.com/tensorflow/tensorflow/blob/v2.1.0/tensorflow/python/keras/metrics.py#L2967 ."
      ]
    },
    {
      "cell_type": "code",
      "metadata": {
        "id": "a-633nzqkH4L",
        "colab_type": "code",
        "colab": {}
      },
      "source": [
        "from tensorflow.python.ops import math_ops as o\n",
        "from tensorflow.python.keras import backend as K\n",
        "\n",
        "\n",
        "def label_categorical_accuracy(y_true, y_pred):\n",
        "    # Map one-hot targets and predictions to tag indices \n",
        "    y_true_idx = o.argmax(y_true, axis=-1)\n",
        "    y_pred_idx = o.argmax(y_pred, axis=-1)\n",
        "    # Compare targets to predicted elementwise and cast the\n",
        "    # resulting boolean values to floating point values.\n",
        "    # (K.floatx() returns current default float type.)\n",
        "    correct_preds = o.cast(o.equal(y_true_idx, y_pred_idx), K.floatx())\n",
        "    # Compare targets to the special NO_LABEL value and cast\n",
        "    # the resulting boolean values to floating point values.\n",
        "    # This gives a value of zero for NO_LABEL and one for others.\n",
        "    is_label = o.cast(o.not_equal(y_true_idx, tag_to_int[NO_LABEL]), K.floatx())\n",
        "    # Take elementwise product of the comparisons, giving values that\n",
        "    # are one if the prediction is equal to the target and the target\n",
        "    # is not the NO_LABEL value, and zero otherwise.\n",
        "    correct_label_preds = o.multiply(correct_preds, is_label)\n",
        "    # Accuracy is then the number of correct predictions for labels\n",
        "    # divided by the number of labels.\n",
        "    return o.reduce_sum(correct_label_preds)/o.reduce_sum(is_label)"
      ],
      "execution_count": 0,
      "outputs": []
    },
    {
      "cell_type": "markdown",
      "metadata": {
        "id": "8qEWZ5_QkH4Q",
        "colab_type": "text"
      },
      "source": [
        "## Train model\n",
        "\n",
        "The model is compiled and trained normally. As our targets are one-hot, we'll use `categorical_crossentropy` loss."
      ]
    },
    {
      "cell_type": "code",
      "metadata": {
        "id": "YmbEt94TkH4S",
        "colab_type": "code",
        "colab": {}
      },
      "source": [
        "model.compile(\n",
        "    optimizer=optimizer,\n",
        "    loss='categorical_crossentropy',\n",
        "    metrics=[label_categorical_accuracy]\n",
        ")"
      ],
      "execution_count": 0,
      "outputs": []
    },
    {
      "cell_type": "markdown",
      "metadata": {
        "id": "Zhbc9dw5kH4V",
        "colab_type": "text"
      },
      "source": [
        "Training, as usual. (Note: this will take a fair bit of time unless you're running with GPU acceleration.)"
      ]
    },
    {
      "cell_type": "code",
      "metadata": {
        "id": "QqJiDb2QkH4W",
        "colab_type": "code",
        "outputId": "2d8ed582-537e-4f7e-85e0-cc4231e2df38",
        "colab": {
          "base_uri": "https://localhost:8080/",
          "height": 129
        }
      },
      "source": [
        "history = model.fit(\n",
        "    train_X,\n",
        "    train_Y,\n",
        "    epochs=EPOCHS,\n",
        "    batch_size=BATCH_SIZE,\n",
        "    validation_data=(dev_X, dev_Y)\n",
        ")"
      ],
      "execution_count": 28,
      "outputs": [
        {
          "output_type": "stream",
          "text": [
            "Epoch 1/3\n",
            "250/250 [==============================] - 87s 348ms/step - loss: 0.6588 - label_categorical_accuracy: 0.6682 - val_loss: 0.1066 - val_label_categorical_accuracy: 0.9269\n",
            "Epoch 2/3\n",
            "250/250 [==============================] - 84s 334ms/step - loss: 0.0870 - label_categorical_accuracy: 0.9534 - val_loss: 0.0799 - val_label_categorical_accuracy: 0.9464\n",
            "Epoch 3/3\n",
            "250/250 [==============================] - 84s 336ms/step - loss: 0.0502 - label_categorical_accuracy: 0.9746 - val_loss: 0.0775 - val_label_categorical_accuracy: 0.9492\n"
          ],
          "name": "stdout"
        }
      ]
    },
    {
      "cell_type": "markdown",
      "metadata": {
        "id": "0zsC-30okH4b",
        "colab_type": "text"
      },
      "source": [
        "Let's plot that training history:"
      ]
    },
    {
      "cell_type": "code",
      "metadata": {
        "id": "meQerHaQkH4c",
        "colab_type": "code",
        "outputId": "959020fa-6c6c-4638-b25d-0d6369418cd3",
        "colab": {
          "base_uri": "https://localhost:8080/",
          "height": 265
        }
      },
      "source": [
        "%matplotlib inline\n",
        "import matplotlib.pyplot as plt\n",
        "\n",
        "\n",
        "def plot_history(history):\n",
        "    train_metric = 'label_categorical_accuracy'\n",
        "    val_metric = 'val_label_categorical_accuracy'\n",
        "    plt.plot(history.history[val_metric],label=\"Validation set accuracy\")\n",
        "    plt.plot(history.history[train_metric],label=\"Training set accuracy\")\n",
        "    plt.legend()\n",
        "    plt.show()\n",
        "\n",
        "\n",
        "plot_history(history)"
      ],
      "execution_count": 29,
      "outputs": [
        {
          "output_type": "display_data",
          "data": {
            "image/png": "[encoded data removed]",
            "text/plain": [
              "<Figure size 432x288 with 1 Axes>"
            ]
          },
          "metadata": {
            "tags": [],
            "needs_background": "light"
          }
        }
      ]
    },
    {
      "cell_type": "markdown",
      "metadata": {
        "id": "Z79cCRZ-kH4h",
        "colab_type": "text"
      },
      "source": [
        "That's not a bad result."
      ]
    },
    {
      "cell_type": "markdown",
      "metadata": {
        "id": "le-A5AX_kH4h",
        "colab_type": "text"
      },
      "source": [
        "## Predict with the trained model\n",
        "\n",
        "Let's run a few simple cases through the trained model to illustrate its use."
      ]
    },
    {
      "cell_type": "code",
      "metadata": {
        "id": "GAq_axEfkH4i",
        "colab_type": "code",
        "outputId": "eb002dd8-9488-44e5-ec37-b72633135749",
        "colab": {
          "base_uri": "https://localhost:8080/",
          "height": 408
        }
      },
      "source": [
        "def predict_tags(words):\n",
        "    # This function takes a sequence of words, vectorizes it,\n",
        "    # and returns the model predictions. The vectorization code\n",
        "    # we wrote expects labels, so we'll attach dummy labels to\n",
        "    # use the code and then discard the dummy labels it generates.\n",
        "    dummy_tagged = [(word, NO_LABEL) for word in words]\n",
        "    tokenized_test = tokenize_sentences([dummy_tagged])\n",
        "    test_X, dummy_Y = vectorize_dataset(tokenized_test)\n",
        "    # Run model.predict for this single sequence \n",
        "    predictions = model.predict(test_X)\n",
        "    # Our outputs are one-hot, take argmax to get indices\n",
        "    y = predictions[0].argmax(axis=1)\n",
        "    # For words tokenized into several subword parts, we\n",
        "    # only care about the predicted tag for the first part.\n",
        "    # Use the tokenization to identify these parts.\n",
        "    tags = []\n",
        "    i = 1    # Start at 1 to skip the special [CLS] token.\n",
        "    for tokens, _ in tokenized_test[0]:\n",
        "        tags.append(int_to_tag[y[i]])\n",
        "        i += len(tokens)\n",
        "    return tags\n",
        "\n",
        "\n",
        "# Test the model with a few word sequences\n",
        "test_words = [\n",
        "  'This model can predict parts of speech .'.split(),\n",
        "  'What would the best time be tomorrow, John wondered quietly .'.split()\n",
        "]\n",
        "\n",
        "\n",
        "for words in test_words:\n",
        "    tags = predict_tags(words)\n",
        "    for w, t in zip(words, tags):\n",
        "        print('{}\\t{}'.format(w, t))\n",
        "    print()"
      ],
      "execution_count": 30,
      "outputs": [
        {
          "output_type": "stream",
          "text": [
            "This\tDET\n",
            "model\tNOUN\n",
            "can\tAUX\n",
            "predict\tVERB\n",
            "parts\tNOUN\n",
            "of\tADP\n",
            "speech\tNOUN\n",
            ".\tPUNCT\n",
            "\n",
            "What\tPRON\n",
            "would\tAUX\n",
            "the\tDET\n",
            "best\tADJ\n",
            "time\tNOUN\n",
            "be\tAUX\n",
            "tomorrow,\tNOUN\n",
            "John\tPROPN\n",
            "wondered\tVERB\n",
            "quietly\tADV\n",
            ".\tPUNCT\n",
            "\n"
          ],
          "name": "stdout"
        }
      ]
    }
  ]
}