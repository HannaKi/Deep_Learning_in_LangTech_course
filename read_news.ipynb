{
 "cells": [
  {
   "cell_type": "markdown",
   "metadata": {},
   "source": [
    "# Read Reuters XML news data\n",
    "\n",
    "This code must be run in Python 3. It reads a Reuters news data set, which consists of a set of files containing articles and topic labels. The data can be used to train and test a classifier that categorizes articles by topic.\n",
    "\n",
    "The code extracts the article text and topic (for simplicity, excluding articles with no or multiple topics) and outputs a list of dictionaries in JSON format.\n",
    "\n",
    "The XML-formated data originates from: https://archive.ics.uci.edu/ml/datasets/reuters-21578+text+categorization+collection"
   ]
  },
  {
   "cell_type": "code",
   "execution_count": null,
   "metadata": {
    "collapsed": true
   },
   "outputs": [],
   "source": [
    "import xml.etree.ElementTree as et\n",
    "import re\n",
    "import os\n",
    "\n",
    "def get_text(element):\n",
    "    \"\"\" Get text within tag and within nested tags \"\"\"\n",
    "    return ((element.text or '') + ''.join(map(get_text, element)) + (element.tail or ''))\n",
    "\n",
    "def read_news(filename):\n",
    "    \"\"\" Extract news article texts and topic labels from Reuters XML file \"\"\"\n",
    "    f = open(filename, encoding=\"latin-1\")\n",
    "    output = []\n",
    "    while True: # Loop through file\n",
    "        buffer = \"\"\n",
    "        while True: # Loop through article, fill buffer\n",
    "            line = f.readline()\n",
    "            buffer += line\n",
    "            if \"</REUTERS>\" in line:\n",
    "                break\n",
    "            if not line: # End of file\n",
    "                return output\n",
    "        buffer = buffer.replace(\"&\", \"&amp;\") # Fix XML\n",
    "        root = et.fromstring(buffer) # Parse XML\n",
    "        topic_tag = root.find('TOPICS')\n",
    "        if len(topic_tag) != 1: # Extract only articles with exactly one topic label, for simplicity\n",
    "            continue\n",
    "        topic = get_text(topic_tag).strip()\n",
    "        text = re.sub(\"\\n\\s+\", \"\\n\", get_text(root.find('TEXT')).strip())\n",
    "        output.append({'class': topic, 'text': text}) # Save as JSON entry\n"
   ]
  },
  {
   "cell_type": "code",
   "execution_count": null,
   "metadata": {},
   "outputs": [],
   "source": [
    "data = []\n",
    "path = \"data/\"\n",
    "# Read all XML (sgm) files in directory\n",
    "for filename in os.listdir(path):\n",
    "    if '.sgm' in filename:\n",
    "        print(\"Reading\", filename)\n",
    "        data += read_news(path+filename)"
   ]
  },
  {
   "cell_type": "markdown",
   "metadata": {},
   "source": [
    "## Below is some code for inspecting and cleaning the data further"
   ]
  },
  {
   "cell_type": "code",
   "execution_count": null,
   "metadata": {},
   "outputs": [],
   "source": [
    "# Check number of articles\n",
    "len(data)"
   ]
  },
  {
   "cell_type": "code",
   "execution_count": null,
   "metadata": {},
   "outputs": [],
   "source": [
    "# Check number of classes\n",
    "len(set([x['class'] for x in data]))"
   ]
  },
  {
   "cell_type": "code",
   "execution_count": null,
   "metadata": {},
   "outputs": [],
   "source": [
    "# Check number of articles per class\n",
    "import collections\n",
    "counter = collections.defaultdict(lambda: 0)\n",
    "for datum in data:\n",
    "    counter[datum['class']] += 1\n",
    "for topic, count in sorted(counter.items(), key=lambda x:x[1], reverse=True):\n",
    "    print(count, topic)\n",
    "    "
   ]
  },
  {
   "cell_type": "code",
   "execution_count": null,
   "metadata": {},
   "outputs": [],
   "source": [
    "# Filter out classes with less than 5 occurrences\n",
    "data = [d for d in data if counter[d['class']] >= 5]\n"
   ]
  },
  {
   "cell_type": "code",
   "execution_count": null,
   "metadata": {},
   "outputs": [],
   "source": [
    "# Check length\n",
    "len(data)"
   ]
  },
  {
   "cell_type": "code",
   "execution_count": null,
   "metadata": {},
   "outputs": [],
   "source": [
    "# Check number of classes\n",
    "len(set([x['class'] for x in data]))"
   ]
  },
  {
   "cell_type": "code",
   "execution_count": null,
   "metadata": {
    "collapsed": true
   },
   "outputs": [],
   "source": []
  }
 ],
 "metadata": {
  "kernelspec": {
   "display_name": "Python 3",
   "language": "python",
   "name": "python3"
  },
  "language_info": {
   "codemirror_mode": {
    "name": "ipython",
    "version": 3
   },
   "file_extension": ".py",
   "mimetype": "text/x-python",
   "name": "python",
   "nbconvert_exporter": "python",
   "pygments_lexer": "ipython3",
   "version": "3.5.2"
  }
 },
 "nbformat": 4,
 "nbformat_minor": 2
}
