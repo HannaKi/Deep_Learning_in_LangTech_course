{
 "cells": [
  {
   "cell_type": "markdown",
   "metadata": {},
   "source": [
    "# What is the network learning?\n",
    "\n",
    "* We can gain some intuition in what the network is learning\n",
    "\n"
   ]
  },
  {
   "cell_type": "code",
   "execution_count": 16,
   "metadata": {},
   "outputs": [
    {
     "name": "stdout",
     "output_type": "stream",
     "text": [
      "<keras.engine.training.Model object at 0x7fbe867f67f0>\n"
     ]
    }
   ],
   "source": [
    "import h5py\n",
    "import json\n",
    "from keras.models import Model, model_from_json\n",
    "\n",
    "\n",
    "def load_model(model_name):\n",
    "\n",
    "    with open(model_name+\".model.json\", \"rt\") as f:\n",
    "        model=model_from_json(f.read())\n",
    "    model.load_weights(model_name+\".weights.h5\")\n",
    "    \n",
    "    with open(model_name+\".vocabularies.json\") as f:\n",
    "        labels,vocab=json.load(f)\n",
    "    \n",
    "    return model,labels,vocab\n",
    "\n",
    "model,labels,vocab=load_model(\"models/imdb_bow\")\n",
    "print(model)"
   ]
  },
  {
   "cell_type": "code",
   "execution_count": 25,
   "metadata": {},
   "outputs": [],
   "source": [
    "words=sorted(vocab.items(),key=lambda item: item[1])\n",
    "learned_weights=model.layers[1].get_weights()[0]\n",
    "with open(\"models/imdb_bow_learned.vectors\",\"wt\") as f:\n",
    "    print(*model.layers[1].get_weights()[0].shape,file=f)\n",
    "    for word,weights in zip(words,learned_weights):\n",
    "        print(word[0].replace(\" \",\"_\"),*weights,file=f)\n",
    "    "
   ]
  }
 ],
 "metadata": {
  "kernelspec": {
   "display_name": "venv-jupyter",
   "language": "python",
   "name": "venv-jupyter"
  },
  "language_info": {
   "codemirror_mode": {
    "name": "ipython",
    "version": 3
   },
   "file_extension": ".py",
   "mimetype": "text/x-python",
   "name": "python",
   "nbconvert_exporter": "python",
   "pygments_lexer": "ipython3",
   "version": "3.5.2"
  }
 },
 "nbformat": 4,
 "nbformat_minor": 2
}
