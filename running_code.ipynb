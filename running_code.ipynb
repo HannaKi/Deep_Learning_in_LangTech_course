{
 "cells": [
  {
   "cell_type": "markdown",
   "metadata": {},
   "source": [
    "# Running and editing the code"
   ]
  },
  {
   "cell_type": "markdown",
   "metadata": {},
   "source": [
    "You can run and edit the code either on the classroom computers, your own laptop or on the course server. Preferably in that order, so there will not be huge traffic on the server, causing insanely long training times."
   ]
  },
  {
   "cell_type": "markdown",
   "metadata": {},
   "source": [
    "# Classroom computers"
   ]
  },
  {
   "cell_type": "markdown",
   "metadata": {},
   "source": [
    "If you are running the code on the classroom computers, you need to install some software locally.\n",
    "\n",
    "If you haven't already, clone the course github repository."
   ]
  },
  {
   "cell_type": "code",
   "execution_count": null,
   "metadata": {},
   "outputs": [],
   "source": [
    "git clone https://github.com/TurkuNLP/Deep_Learning_in_LangTech_course"
   ]
  },
  {
   "cell_type": "markdown",
   "metadata": {},
   "source": [
    "This will clone the repository into a folder \"Deep_Learning_in_LangTech_course\". Inside this folder run these commands:"
   ]
  },
  {
   "cell_type": "code",
   "execution_count": null,
   "metadata": {},
   "outputs": [],
   "source": [
    "pip3 install -r requirements.txt --user\n",
    "export PATH=$PATH:~/.local/bin\n",
    "echo \"PATH=$PATH:~/.local/bin\" >> ~/.bashrc"
   ]
  },
  {
   "cell_type": "markdown",
   "metadata": {},
   "source": [
    "You can now start jupyter by running:"
   ]
  },
  {
   "cell_type": "code",
   "execution_count": null,
   "metadata": {},
   "outputs": [],
   "source": [
    "jupyter notebook"
   ]
  },
  {
   "cell_type": "markdown",
   "metadata": {},
   "source": [
    "Browser should open on its own, but if not, there is a link in the terminal output."
   ]
  },
  {
   "cell_type": "markdown",
   "metadata": {},
   "source": [
    "# Own laptop"
   ]
  },
  {
   "cell_type": "markdown",
   "metadata": {},
   "source": [
    "The installation procedure should be fairly similiar on your own laptop, assuming you have python installed and know where pip is. (Ask for help, depends on your OS etc.) Use the above commands."
   ]
  },
  {
   "cell_type": "markdown",
   "metadata": {},
   "source": [
    "# Course server"
   ]
  },
  {
   "cell_type": "markdown",
   "metadata": {},
   "source": [
    "If you plan on running everything on the course server, you don't need to install anything, but you do need to do port forwarding for the jupyter notebooks. Pick a RANDOM port between 6000 and 65000.\n",
    "\n",
    "Connect to the course server using this command: (Linux / Mac)"
   ]
  },
  {
   "cell_type": "code",
   "execution_count": null,
   "metadata": {},
   "outputs": [],
   "source": [
    "ssh -L YOURPORTNUMBERHERE:localhost:YOURPORTNUMBERHERE vm0964.kaj.pouta.csc.fi"
   ]
  },
  {
   "cell_type": "markdown",
   "metadata": {},
   "source": [
    "On windows you need to do the port forwarding through PuTTY."
   ]
  },
  {
   "cell_type": "markdown",
   "metadata": {},
   "source": [
    "Now you can clone the course github repository using above commands.\n",
    "Run the jupyter using your random port:"
   ]
  },
  {
   "cell_type": "code",
   "execution_count": null,
   "metadata": {},
   "outputs": [],
   "source": [
    "jupyter notebook --port YOURPORTNUMBERHERE"
   ]
  }
 ],
 "metadata": {
  "kernelspec": {
   "display_name": "Python 3",
   "language": "python",
   "name": "python3"
  },
  "language_info": {
   "codemirror_mode": {
    "name": "ipython",
    "version": 3
   },
   "file_extension": ".py",
   "mimetype": "text/x-python",
   "name": "python",
   "nbconvert_exporter": "python",
   "pygments_lexer": "ipython3",
   "version": "3.5.2"
  }
 },
 "nbformat": 4,
 "nbformat_minor": 2
}
