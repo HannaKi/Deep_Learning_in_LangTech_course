{
 "cells": [
  {
   "cell_type": "markdown",
   "metadata": {},
   "source": [
    "# Running and editing the code\n",
    "\n",
    "You can use two online environments:\n",
    "\n",
    "* [CSC notebooks](https://notebooks.csc.fi)\n",
    "* [Google Colab](https://colab.research.google.com/)\n",
    "\n",
    "We will go through these in the class. The advantage of CSC notebooks is the full terminal access, the advantage of Google Colab is access to GPU accelerators, which we will need especially towards the end of the course. All course slides and material are in this GitHub repository:\n",
    "\n",
    "`git clone https://github.com/TurkuNLP/Deep_Learning_in_LangTech_course`\n",
    "\n",
    "Neither of the environments has a default persistence, i.e. the virtual machine is deleted together with all data on it when your session ends. Google Colab, however, allows you to mount your Google drive as a directory, and it also allows you to open notebooks directly from github (as will be shown in the classes)"
   ]
  }
 ],
 "metadata": {
  "kernelspec": {
   "display_name": "Python 3",
   "language": "python",
   "name": "python3"
  },
  "language_info": {
   "codemirror_mode": {
    "name": "ipython",
    "version": 3
   },
   "file_extension": ".py",
   "mimetype": "text/x-python",
   "name": "python",
   "nbconvert_exporter": "python",
   "pygments_lexer": "ipython3",
   "version": "3.7.5"
  }
 },
 "nbformat": 4,
 "nbformat_minor": 4
}
