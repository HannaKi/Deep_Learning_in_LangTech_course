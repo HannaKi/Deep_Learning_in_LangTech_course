{
 "cells": [
  {
   "cell_type": "markdown",
   "metadata": {},
   "source": [
    "# Word embeddings"
   ]
  },
  {
   "cell_type": "code",
   "execution_count": 24,
   "metadata": {
    "collapsed": false
   },
   "outputs": [
    {
     "name": "stdout",
     "output_type": "stream",
     "text": [
      "Most similar words for 'locomotive':\n",
      "[('locomotives', 0.7783413529396057), ('train', 0.6395583152770996), ('freight_train', 0.634894847869873), ('railroad', 0.5961646437644958), ('railway', 0.5849345326423645), ('trains', 0.5816384553909302), ('carriages', 0.5793731808662415), ('Railway', 0.5460857152938843), ('Railroad', 0.5194726586341858), ('Train', 0.5116413235664368)]\n",
      "\n",
      "Similarity of 'ship' and 'ferry':\n",
      "0.5114153595311078\n",
      "Similarity of 'ship' and 'sweetness':\n",
      "0.009691723637990743\n"
     ]
    }
   ],
   "source": [
    "from gensim.models import KeyedVectors\n",
    "\n",
    "# load embedding model from a file\n",
    "# binary: True if saved as binary file (.bin), False if saved as text file (.vectors)\n",
    "# limit: How many words to read from the model\n",
    "model=KeyedVectors.load_word2vec_format(\"data/GoogleNews-vectors-negative300.bin\", binary=True, limit=50000)\n",
    "\n",
    "# basic functions\n",
    "print(\"Most similar words for 'locomotive':\")\n",
    "print(model.most_similar(u\"locomotive\",topn=10))\n",
    "print()\n",
    "\n",
    "print(\"Similarity of 'ship' and 'ferry':\")\n",
    "print(model.similarity(\"ship\", \"ferry\"))\n",
    "print(\"Similarity of 'ship' and 'sweetness':\")\n",
    "print(model.similarity(\"ship\", \"sweetness\"))"
   ]
  },
  {
   "cell_type": "markdown",
   "metadata": {},
   "source": [
    "### Embedding matrix: List of vectors\n",
    "\n",
    "- Each row is a vector for one word so the matrix has as many rows as there are words in the model\n",
    "- Each column is one dimesion in a vector, so the number of columns equals the vector dimensionality\n",
    "- If we have 1000 words in our model and vector dimensionality 200, the shape of the embedding matrix is (1000 x 200)\n",
    "\n",
    "### Vocabulary: Mapping from word to an index\n",
    "\n",
    "- Tells us where in the embedding matrix to find the vector for a word\n",
    "- Usually dictionary, where key is the word and value is its index in the embedding matrix\n",
    "- **Gensim:** Dictionary, where key is the word and value is a vocabulary item having two attributes (count and index)\n",
    "- Vector for a word can be found by selecting word.index row from the embedding matrix\n"
   ]
  },
  {
   "cell_type": "code",
   "execution_count": 53,
   "metadata": {
    "collapsed": false
   },
   "outputs": [
    {
     "name": "stdout",
     "output_type": "stream",
     "text": [
      "Embedding matrix type: <class 'numpy.ndarray'>\n",
      "Embedding matrix shape: (50000, 300)\n",
      "First 5 vectors: [[ 1.12915039e-03 -8.96453857e-04  3.18527222e-04 ... -1.56402588e-03\n",
      "  -1.23023987e-04 -8.63075256e-05]\n",
      " [ 7.03125000e-02  8.69140625e-02  8.78906250e-02 ... -4.76074219e-02\n",
      "   1.44653320e-02 -6.25000000e-02]\n",
      " [-1.17797852e-02 -4.73632812e-02  4.46777344e-02 ...  7.12890625e-02\n",
      "  -3.49121094e-02  2.41699219e-02]\n",
      " [-1.57470703e-02 -2.83203125e-02  8.34960938e-02 ...  6.86645508e-03\n",
      "   6.10351562e-02 -1.48437500e-01]\n",
      " [ 7.04956055e-03 -7.32421875e-02  1.71875000e-01 ...  1.12304688e-02\n",
      "   1.64062500e-01  1.06933594e-01]]\n",
      "\n",
      "Vocabulary type: <class 'dict'>\n",
      "Word locomotive in the vocabulary: Vocab(count:17809, index:32191)\n",
      "Index for the word locomotive: 32191\n",
      "Vector for the word locomotive: [ 1.80664062e-01  3.30078125e-01  4.32128906e-02 -6.07910156e-02\n",
      " -1.08398438e-01 -1.96289062e-01 -4.83398438e-02 -1.91406250e-01\n",
      "  5.39062500e-01  3.19824219e-02  1.90429688e-01 -1.11328125e-01\n",
      " -1.26953125e-01 -3.63281250e-01 -1.09375000e-01  1.59179688e-01\n",
      " -1.22070312e-01  6.15234375e-02  9.81445312e-02 -9.32617188e-02\n",
      "  7.27539062e-02 -7.20977783e-04 -2.17773438e-01  2.91015625e-01\n",
      "  3.00781250e-01 -1.61132812e-02 -2.20703125e-01  3.90625000e-01\n",
      "  1.65039062e-01  1.74804688e-01 -2.67578125e-01 -4.25781250e-01\n",
      " -2.87109375e-01 -1.09375000e-01  2.61230469e-02  6.34765625e-02\n",
      " -4.98046875e-02  1.87500000e-01 -1.92382812e-01  2.05078125e-01\n",
      " -4.33593750e-01  2.21252441e-03  1.53320312e-01  2.58789062e-02\n",
      "  5.52368164e-03  1.34887695e-02 -2.20703125e-01  1.13769531e-01\n",
      "  1.53320312e-01  3.31115723e-03  2.74658203e-02  2.94921875e-01\n",
      "  9.66796875e-02 -1.22070312e-02 -1.25976562e-01  1.09863281e-01\n",
      "  2.26562500e-01 -3.29589844e-02  1.32446289e-02 -1.12792969e-01\n",
      "  6.07910156e-02 -5.63964844e-02 -1.83593750e-01 -2.94921875e-01\n",
      " -1.15234375e-01  5.95703125e-02 -1.75781250e-01  2.83203125e-01\n",
      " -3.54003906e-02  1.08398438e-01 -9.57031250e-02 -5.59082031e-02\n",
      " -2.46093750e-01 -8.00781250e-02  1.60156250e-01 -1.71875000e-01\n",
      "  1.30859375e-01 -1.89453125e-01 -2.94921875e-01 -3.28125000e-01\n",
      " -1.58203125e-01  1.18164062e-01  3.00292969e-02  1.05468750e-01\n",
      "  1.19628906e-01  2.77343750e-01 -2.63671875e-01 -2.40234375e-01\n",
      "  1.07910156e-01 -1.32812500e-01 -3.57421875e-01  1.59179688e-01\n",
      " -1.15234375e-01  2.79296875e-01 -6.78710938e-02  8.93554688e-02\n",
      " -9.57031250e-02 -1.16699219e-01  2.32421875e-01 -2.59765625e-01\n",
      "  4.29687500e-02 -1.70898438e-01  1.37695312e-01  5.20019531e-02\n",
      "  1.80664062e-01 -1.20605469e-01  1.49414062e-01  2.89062500e-01\n",
      "  1.18164062e-01  8.64257812e-02 -2.89062500e-01 -1.83593750e-01\n",
      " -6.39648438e-02 -1.25000000e-01  2.01171875e-01  6.12792969e-02\n",
      "  1.64062500e-01  1.80664062e-01 -1.63085938e-01  2.07031250e-01\n",
      "  4.95605469e-02 -1.41601562e-01 -1.34765625e-01 -5.29785156e-02\n",
      " -2.01171875e-01  1.65039062e-01 -3.78417969e-02 -1.33666992e-02\n",
      " -2.87109375e-01  6.64062500e-02  2.14843750e-01  7.08007812e-02\n",
      " -1.80664062e-01 -1.79687500e-01  1.96289062e-01  9.17968750e-02\n",
      " -3.51562500e-01 -3.49121094e-02  7.87353516e-03  2.79296875e-01\n",
      " -9.33837891e-03 -4.70703125e-01  1.55273438e-01  1.21582031e-01\n",
      "  1.53320312e-01  1.45507812e-01 -1.58203125e-01  1.63085938e-01\n",
      " -2.41699219e-02 -1.21459961e-02  1.63085938e-01 -1.74804688e-01\n",
      " -3.34472656e-02  4.45312500e-01 -4.06250000e-01  3.63281250e-01\n",
      "  1.31225586e-02  2.17285156e-02 -1.36718750e-01 -4.96093750e-01\n",
      "  2.87109375e-01  1.31835938e-01  1.31835938e-01  6.49414062e-02\n",
      "  2.61718750e-01 -2.89306641e-02  2.37304688e-01 -3.18359375e-01\n",
      " -1.01318359e-02  2.78320312e-02 -2.55859375e-01 -1.74804688e-01\n",
      " -5.29785156e-02 -1.00585938e-01  9.66796875e-02 -1.10351562e-01\n",
      " -6.64062500e-02 -1.66992188e-01 -3.27148438e-02 -1.98242188e-01\n",
      " -1.33789062e-01  5.24902344e-02 -5.98144531e-02  1.44042969e-02\n",
      "  2.04101562e-01  2.08984375e-01  8.74023438e-02  1.08398438e-01\n",
      " -3.28125000e-01  4.04296875e-01  1.40625000e-01  2.30468750e-01\n",
      " -2.61718750e-01  3.02734375e-01  2.98828125e-01 -7.91015625e-02\n",
      " -1.20605469e-01 -2.34375000e-01 -2.69531250e-01  1.33056641e-02\n",
      " -5.56640625e-02 -3.46374512e-03 -2.32421875e-01  1.21093750e-01\n",
      " -2.04101562e-01 -6.78710938e-02  1.01074219e-01  2.63671875e-01\n",
      "  1.61132812e-01  1.40625000e-01 -3.05175781e-02 -2.11914062e-01\n",
      "  2.17285156e-02  5.54199219e-02  2.61230469e-02  1.67968750e-01\n",
      "  5.78613281e-02  1.98242188e-01  9.57031250e-02  2.10937500e-01\n",
      "  4.22363281e-02  2.14843750e-01  4.78515625e-01  1.41601562e-01\n",
      "  9.47265625e-02 -1.95312500e-01 -3.00781250e-01  2.77343750e-01\n",
      "  7.08007812e-02  9.81445312e-02 -8.64257812e-02 -1.04980469e-01\n",
      " -1.29882812e-01  1.62109375e-01 -3.86718750e-01  1.75781250e-01\n",
      " -3.37890625e-01 -1.10839844e-01  8.64257812e-02 -9.52148438e-02\n",
      " -3.03268433e-04 -1.58203125e-01 -7.56835938e-02 -2.50000000e-01\n",
      " -5.88378906e-02 -3.65234375e-01 -2.12890625e-01 -1.51367188e-01\n",
      "  1.58203125e-01 -2.41210938e-01  4.46777344e-02  4.76562500e-01\n",
      " -1.08886719e-01 -9.22851562e-02 -2.11914062e-01 -5.46875000e-02\n",
      " -1.96533203e-02 -4.19921875e-01 -8.78906250e-02 -5.70312500e-01\n",
      " -1.18164062e-01 -3.08837891e-02 -1.61132812e-01  1.83593750e-01\n",
      " -2.63977051e-03  3.10546875e-01 -1.38671875e-01 -1.55273438e-01\n",
      " -3.26171875e-01  9.17968750e-02  1.53320312e-01  6.65283203e-03\n",
      "  1.29882812e-01  1.18164062e-01  6.64062500e-02 -2.98828125e-01\n",
      "  2.06054688e-01 -1.74804688e-01 -5.81054688e-02  1.49414062e-01\n",
      " -6.59179688e-03  4.34570312e-02 -6.78710938e-02 -3.00781250e-01\n",
      " -1.56250000e-01 -8.49609375e-02 -4.29687500e-02 -1.15722656e-01\n",
      "  4.02343750e-01  3.90625000e-02 -1.66992188e-01  7.17773438e-02\n",
      " -7.20214844e-03  5.95703125e-02 -6.71386719e-03 -2.23632812e-01\n",
      " -8.05664062e-02  5.50781250e-01  5.46875000e-02 -1.47094727e-02]\n"
     ]
    }
   ],
   "source": [
    "print(\"Embedding matrix type:\", type(model.vectors))\n",
    "print(\"Embedding matrix shape:\", model.vectors.shape)\n",
    "print(\"First 5 vectors:\", model.vectors[:5])\n",
    "print()\n",
    "\n",
    "print(\"Vocabulary type:\", type(model.vocab))\n",
    "print(\"Word locomotive in the vocabulary:\", model.vocab[\"locomotive\"])\n",
    "print(\"Index for the word locomotive:\", model.vocab[\"locomotive\"].index)\n",
    "print(\"Vector for the word locomotive:\", model.vectors[model.vocab[\"locomotive\"].index])\n",
    "\n"
   ]
  }
 ],
 "metadata": {
  "kernelspec": {
   "display_name": "Python 3",
   "language": "python",
   "name": "python3"
  },
  "language_info": {
   "codemirror_mode": {
    "name": "ipython",
    "version": 3
   },
   "file_extension": ".py",
   "mimetype": "text/x-python",
   "name": "python",
   "nbconvert_exporter": "python",
   "pygments_lexer": "ipython3",
   "version": "3.6.3"
  }
 },
 "nbformat": 4,
 "nbformat_minor": 2
}
