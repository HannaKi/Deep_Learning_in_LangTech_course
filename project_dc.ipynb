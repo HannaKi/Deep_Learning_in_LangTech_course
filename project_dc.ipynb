{
 "cells": [
  {
   "cell_type": "markdown",
   "metadata": {},
   "source": [
    "# Document classification project\n",
    "In this project, the goal is to classify (categorize) medical articles based on their content. Each article explains something about one <b>(or more)</b> cardiovascular-related disease. Each article includes: \n",
    "- An identification number. \n",
    "- A \"title\" and/or \"abstract\": title (if present) is always the first sentence of the document and is not represented differently.\n",
    "- One (or more) assigned labels. \n",
    "\n",
    "| Class description                                     |code|\n",
    "|-------------------------------------------------------|----|\n",
    "| Bacterial Infections and Mycoses                      | C01|\n",
    "| Virus Diseases                                        | C02|\n",
    "| Parasitic Diseases                                    | C03|\n",
    "| Neoplasms                                             | C04|\n",
    "| Musculoskeletal Diseases                              | C05|\n",
    "| Digestive System Diseases                             | C06|\n",
    "| Stomatognathic Diseases                               | C07|\n",
    "| Respiratory Tract Diseases                            | C08|\n",
    "| Otorhinolaryngologic Diseases                         | C09|\n",
    "| Nervous System Diseases                               | C10|\n",
    "| Eye Diseases                                          | C11|\n",
    "| Urologic and Male Genital Diseases                    | C12|\n",
    "| Female Genital Diseases and Pregnancy Complications   | C13|\n",
    "| Cardiovascular Diseases                               | C14|\n",
    "| Hemic and Lymphatic Diseases                          | C15|\n",
    "| Neonatal Diseases and Abnormalities                   | C16|\n",
    "| Skin and Connective Tissue Diseases                   | C17|\n",
    "| Nutritional and Metabolic Diseases                    | C18|\n",
    "| Endocrine Diseases                                    | C19|\n",
    "| Immunologic Diseases                                  | C20|\n",
    "| Disorders of Environmental Origin                     | C21|\n",
    "| Animal Diseases                                       | C22|\n",
    "| Pathological Conditions, Signs and Symptoms           | C23|\n",
    "\n",
    "This project (and its data) is divided into two main phases:\n",
    "- Phase-1: Multi-class classification (Milestones 1 and 2)\n",
    "- Phase-2: Multi-label classification (Milestone 3)\n",
    "\n",
    "### Phase-1: Multi-class classification (Milestones 1 and 2)\n",
    "Training set examples in this phase are associated with <b>only one</b> of abovementioned diseases. Hence, your job is to assign <b>only one</b> disease label to each document. The corpus is partitioned into training set (70%) and test set (30%) and is located in \"data/project_dc_multiclass.gz\" file which can be easily read with the following function: "
   ]
  },
  {
   "cell_type": "code",
   "execution_count": 1,
   "metadata": {},
   "outputs": [
    {
     "name": "stdout",
     "output_type": "stream",
     "text": [
      "<class 'dict'>\n",
      "dict_keys(['test', 'training'])\n",
      "number of training set examples: 12802\n",
      "number of test set     examples: 5500\n"
     ]
    }
   ],
   "source": [
    "import json , gzip\n",
    "def read_gziped_json(file_address):\n",
    "    with gzip.GzipFile(file_address, 'r') as f:\n",
    "        json_bytes = f.read()\n",
    "    json_str = json_bytes.decode('utf-8')\n",
    "    data = json.loads(json_str)\n",
    "    return data\n",
    "\n",
    "multiclass_corpus = read_gziped_json(\"data/project_dc_multiclass.gz\")\n",
    "print (type(multiclass_corpus))\n",
    "print (multiclass_corpus.keys())\n",
    "print (\"number of training set examples:\" , len (multiclass_corpus[\"training\"]))\n",
    "print (\"number of test set     examples:\" , len (multiclass_corpus[\"test\"]))"
   ]
  },
  {
   "cell_type": "code",
   "execution_count": 2,
   "metadata": {},
   "outputs": [
    {
     "name": "stdout",
     "output_type": "stream",
     "text": [
      "['0025164', 'The level of tryptase in human tears. An indicator of activation of conjunctival mast cells.\\n Tryptase, a neutral endoprotease, is secreted by activated mast cells in human tissues.\\n Tryptase levels in various body fluids have been used as an indicator of mast cell activation.\\n The authors determined tryptase levels in unstimulated tears collected from the following groups of patients: (1) normal control, (2) nonallergic ocular inflammation, (3) asymptomatic seasonal allergic conjunctivitis, (4) symptomatic seasonal allergic conjunctivitis, (5) vernal conjunctivitis, and (6) contact lens-associated giant papillary conjunctivitis.\\n They also assessed the release of tryptase into the tear fluid after provoking the conjunctiva with (7) allergens, (8) compound 48/80, and (9) rubbing.\\n Tryptase levels were elevated in tears of patients with active ocular allergy and also increased after provoking the conjunctiva with allergens in atopic subjects and with compound 48/80 and rubbing in nonatopic subjects.\\n Tryptase levels in tear fluid may prove useful as a clinical indicator of mast cell involvement in ocular allergic disorders.\\n In provocation experiments, tryptase levels may be used to evaluate and compare different mast cell stabilizing agents.\\n', 'C11'] \n",
      "\n",
      "['0000047', 'Multivariate analysis in the prediction of death in hospital after acute myocardial infarction.\\n Prognostic factors in patients with acute myocardial infarction based on clinical and investigative data on admission were evaluated prospectively in 111 consecutive patients.\\n Seventeen patients (15.3%) died during hospital stay.\\n Age, a previous infarct, high Killip class, cardiomegaly, high serum concentrations of cardiac enzymes, a low ejection fraction, and a high wall motion score index correlated significantly with in-hospital mortality; whereas sex, risk factors, and pericardial effusion did not.\\n Multivariate analysis showed that age and the wall motion score index were the best predictors of death in hospital.\\n Wall motion detected by cross sectional echocardiography may reflect the extent of myocardial involvement.\\n Age and wall motion score index predicted in-hospital mortality with a sensitivity of 76.5%, a specificity of 91.5%, and a predictive accuracy of 89.2%.\\n Age and the wall motion score index can be determined on admission and are useful for identifying patients at high risk of cardiac death who might benefit from early intervention.\\n', 'C14'] \n",
      "\n",
      "['0031321', 'Prevention of coronary heart disease in black adults.\\n Development of strategies to prevent CHD in blacks is impeded by the virtual absence of clinical trials demonstrating the feasibility and effectiveness of interventions in blacks.\\n The wholesale generalization that interventions effective (or ineffective) in whites are similarly effective in blacks may risk the employment of worthless or even dangerous interventions in blacks.\\n Using available epidemiologic data, a number of risk factors may be more important in blacks than whites by virtue of higher prevalence, increased relative risk, or both.\\n These may include hypertension, lipoprotein (a), smoking, diabetes, and obesity.\\n Thus, health agencies might emphasize these risk factors when developing preventive programs targeted at black populations.\\n Prevention programs may best seek to prevent the onset of risk factors found highly prevalent in black communities, rather than the costly and side-effect-prone interventions to treat risk factors once established.\\n Thus, there is a role for community-based as well as a high-risk approaches.\\n The community-based approaches should seek to work with organizations such as churches, which traditionally play strong roles in the black community.\\n Physicians treating black patients should be aware of the potentially different roles played by risk factors, and treat aggressively those individuals identified to be at high risk.\\n Risk factor management should be emphasized, rather than reduced, in patients with already established CHD.\\n CHD has been clearly shown to be preventable; both blacks and whites should benefit from specific interventions aimed toward this worthy goal.\\n', 'C14'] \n",
      "\n"
     ]
    }
   ],
   "source": [
    "for example in multiclass_corpus[\"training\"][0:3]:\n",
    "    print (example , \"\\n\")"
   ]
  },
  {
   "cell_type": "code",
   "execution_count": 3,
   "metadata": {},
   "outputs": [
    {
     "name": "stdout",
     "output_type": "stream",
     "text": [
      "['0017649', 'Ampicillin-resistant enterococcal species in an acute-care hospital.\\n A prospective review of all enterococcal isolates for 13 months showed that 9.0% were resistant to ampicillin (MIC, greater than or equal to 16 micrograms/ml; zone diameter, less than 15 mm), as determined by the Vitek system, disk diffusion, microdilution MIC testing, and macrodilution MIC testing.\\n All were beta-lactamase negative.\\n A total of 19 and 3 resistant isolates were from urine and intravascular sites, respectively.\\n Ampicillin-resistant enterococci appear to be a growing clinical problem.\\n', 'C01'] \n",
      "\n",
      "['0025450', 'Pharmacokinetics of ceftazidime in serum and suction blister fluid during continuous and intermittent infusions in healthy volunteers.\\n The pharmacokinetics of ceftazidime were investigated during intermittent (II) and continuous (CI) infusion in eight healthy male volunteers in a crossover fashion.\\n The total daily dose was 75 mg/kg of body weight per 24 h in both regimens, given in three doses of 25 mg/kg/8 h (II) or 60 mg/kg/24 h with 15 mg/kg as a loading dose (CI).\\n After the third dose (II) and during CI, serum and blister fluid samples were taken.\\n Seven new blisters were raised for each timed sample by a suction blister technique.\\n Blisters took 90 min to form.\\n Samples were then taken from four blisters (A samples) and 1 h later were taken from the remaining three (B samples).\\n The concentration of ceftazidime was determined using a high-performance liquid chromatography method.\\n After II, the concentrations in serum immediately after infusion (t = 30 min) and 8 h after the start of the infusion were 137.9 (standard deviation [SD], 27.5) and 4.0 (SD, 0.7) micrograms/ml, respectively.\\n The half-life at alpha phase (t1/2 alpha) was 9.6 min (SD, 4.6), t1/2 beta was 94.8 min (SD, 5.4), area under the concentration-time curve (AUC) was 285.4 micrograms.h/ml (SD, 22.7), total body clearance was 0.115 liter/h.kg (SD, 0.022), and volume of distribution at steady state was 0.178 liter/kg (SD, 0.023).\\n The blister fluid (A) samples showed a decline in concentration parallel to that of the concentrations in serum during the elimination phase with a ratio of 1:1.\\n The t1/2 of the A samples was 96.4 min (SD, 3.2).\\n', 'C17'] \n",
      "\n",
      "['0006036', \"Computer-assisted tomography of scoliosis operated with or without Harrington's rod. Biomechanics aspects of the fusion.\\n Forty-eight cases of posterior vertebral arthrodesis for scoliosis, performed with or without instrumentation, were examined using computed tomography (CT) scanning to study the evolving fusion mass.\\n The authors observed that the fusion mass area is more voluminous in the cases performed without instrumentation than in the ones performed with instrumentation, and that 2 years after fusion the bone mass shows already a considerable increase.\\n For the cases operated with Harrington's technique, the increase of the fusion mass is very slow and becomes considerable 5 years after operation.\\n In both series, the section of the fusion masses at the apex of the curve is asymmetric (with prevalence on the concave side), with an area of central resorption that shows the structure of a long bone (box section).\\n\", 'C05'] \n",
      "\n"
     ]
    }
   ],
   "source": [
    "for example in multiclass_corpus[\"test\"][0:3]:\n",
    "    print (example , \"\\n\")"
   ]
  },
  {
   "cell_type": "markdown",
   "metadata": {},
   "source": [
    "### Phase-2: Multi-label classification (Milestone 3)\n",
    "Training set examples in this phase are associated with <b>at least one</b> of abovementioned diseases. Hence, your job is to assign <b>one or more</b> disease labels to each document. The corpus is in \"data/project_dc_multilabel.gz\" file and can be easily read with the following function:"
   ]
  },
  {
   "cell_type": "code",
   "execution_count": 4,
   "metadata": {},
   "outputs": [
    {
     "name": "stdout",
     "output_type": "stream",
     "text": [
      "number of examples: 34389\n",
      "['0036407', 'Inhalation of foreign bodies by children: review of experience with 74 cases from Dubai.\\n Seventy four out of 94 cases of bronchoscopy carried out over a five year period are reviewed.\\n The clinical history of choking followed by recurrent spasmodic cough were found to be the most important element in making the diagnosis and proceeding to diagnostic and therapeutic bronchoscopy.\\n Radiology was inferior as a diagnostic aid although radioactive scanning may be helpful in difficult cases.\\n', ['C08', 'C21']] \n",
      "\n",
      "['0035922', 'Mechanism of cyclosporine-induced hypertension.\\n Cyclosporine is a common immunosuppressive agent used in solid organ and bone marrow transplants and the treatment of some immunological diseases.\\n It has been established that treatment with cyclosporine can cause a patient to develop hypertension within a few weeks of treatment.\\n This review will examine this effect and effective ways to treat it.\\n', ['C14', 'C23']] \n",
      "\n",
      "['0049819', \"The association of prenatal nutrition and educational services with low birth weight rates in a Florida program.\\n Nutrition services and education, provided as components of normal prenatal care, have a key role in preventing preterm delivery and low birth weight (LBW).\\n To determine the influence of these components on a woman's risk of having a LBW infant, the authors examined groups of patients who were receiving the services.\\n Bivariate analyses were made of 9,024 prenatal charts of single births.\\n Most women received nutrition education, prescriptions for nutrient supplements, screenings for anemia, and dietary assessments.\\n A greater proportion of the women at high risk received the interventions than did women at lower risk.\\n The presence of educational components and assays for anemia were associated with a lower risk of a LBW delivery in the total group and in the high risk groups.\\n\", ['C13', 'C15']] \n",
      "\n"
     ]
    }
   ],
   "source": [
    "multilabel_corpus = read_gziped_json(\"data/project_dc_multilabel.gz\")\n",
    "print (\"number of examples:\" , len (multilabel_corpus))\n",
    "for example in multilabel_corpus[0:3]:\n",
    "    print (example , \"\\n\")\n"
   ]
  },
  {
   "cell_type": "markdown",
   "metadata": {},
   "source": [
    "Note that still there are documents with single labels in the corpus. This is quite normal in a multi-label setup. The following code shows some of them: "
   ]
  },
  {
   "cell_type": "code",
   "execution_count": 5,
   "metadata": {},
   "outputs": [
    {
     "name": "stdout",
     "output_type": "stream",
     "text": [
      "['0013473', \"Patients in a persistent vegetative state attitudes and reactions of family members.\\n Patients in a persistent vegetative state (PVS) constituted approximately 3% of the population in four Milwaukee nursing homes.\\n In order to understand family members' attitudes and reactions toward such patients, 33 (92%) of 36 family members of patients in PVS contacted were studied.\\n The age of the patients ranged from 19 to 95 with a mean age of 73.4 +/- 17.2 years, and family members' ages ranged from 41 to 89 with a mean age of 61.8 +/- 3.3 years.\\n The etiology of the PVS varied from dementia to cerebral trauma.\\n The mean duration of the PVS was 54 +/- 8.4 months (range 12 to 204).\\n Family members reported that they visited patients 260 times during the first year following the onset of the PVS and were still visiting at a rate of 209 visits yearly at the time of the interview.\\n There was no significant correlation between the frequency of the family members visits and the duration of the PVS, the patient's or family member's age, or the family member's relationship to the patient.\\n Ninety percent of patients were considered by family members to have some awareness of pain, light or darkness, environment, taste, verbal conversation, or the family member's presence.\\n Most family members thought they understood the patient's medical condition, and the majority did not expect the patient to improve.\\n Nevertheless, the majority of family members wanted the patient to undergo therapeutic interventions, including transfer to the acute hospital and surgery.\\n\", ['C23']] \n",
      "\n",
      "['0033684', \"Radial growth plate injury in a female gymnast.\\n Radial growth plate injury is a cause of wrist pain in female gymnasts.\\n The mechanism of injury and its relationship to dowel grips, now standard gymnastic equipment, are considered.\\n An athlete's response to a treatment approach emphasizing moderation and protection is described.\\n\", ['C21']] \n",
      "\n",
      "['0006852', \"Clinical performance of St. Jude and Medtronic-Hall prostheses: a randomized comparative study.\\n Newer and improved models of mechanical prostheses are regularly added to surgeons' armamentarium.\\n This study was designed to compare the clinical performance of two of the most used current models of mechanical prostheses.\\n From August 1983 through July 1985, 182 white patients were prospectively randomized to implantation of the St.\\n Jude Medical (95 patients) or Medtronic-Hall (87 patients) prostheses.\\n There were 84 mitral, 85 aortic, and 13 double (mitral and aortic) valve replacements.\\n There were no differences between the two groups with regard to sex distribution, age, functional class, emergency operation, and site of implantation.\\n Early mortality was 3.2% for patients with the St.\\n Jude valve and 5.7% for those with the Medtronic-Hall (p = NS).\\n The survivors were followed for 3 to 5 years (mean, 4.2 +/- 0.6 years; cumulative follow-up, 559 patient-years).\\n Late mortality was 7.1%/patient-year for the St.\\n Jude group and 3.2%/patient-year for the Medtronic-Hall group (p less than 0.05).\\n However, the valve-related mortality was equal (1.4%/patient-year) for both groups.\\n Noncardiac causes accounted for most of the difference between the St.\\n Jude and Medtronic-Hall groups (2.5%/patient-year and 0.4%/patient-year, respectively).\\n There were no cases of thrombotic obstruction, whereas serious systemic thromboembolism occurred at the rate of 1.8%/patient-year (5 episodes) for the St.\\n Jude group and 2.5%/patient-year (7 episodes) for the Medtronic-Hall group (p = not significant); there were another nine episodes of systemic embolism that left no sequelae.\\n Three patients (St.\\n Jude, 2; Medtronic-Hall, 1), all of whom had aortic valve replacement, required reoperation (0.5%/patient-year) because of prosthetic endocarditis, with two deaths.\\n\", ['C14']] \n",
      "\n"
     ]
    }
   ],
   "source": [
    "x = [example for example in multilabel_corpus if len(example[2])==1]\n",
    "for example in x[0:3]:\n",
    "    print (example, \"\\n\")"
   ]
  },
  {
   "cell_type": "code",
   "execution_count": 6,
   "metadata": {},
   "outputs": [
    {
     "name": "stdout",
     "output_type": "stream",
     "text": [
      "['0030176', 'Lower limb problems in diabetic patients. What are the causes? What are the remedies?\\n Peripheral neuropathy, infection, and peripheral vascular disease can produce serious problems in diabetic patients, particularly in the lower limbs.\\n Ulceration of the foot may progress to gangrene and ultimately necessitate amputation.\\n Distal symmetric polyneuropathy causes sensory loss.\\n Such loss in patients with peripheral vascular disease creates a high risk for foot ulcers, which are vulnerable to infection.\\n Treatment includes relief of neuropathic pain and antibiotic therapy for infection.\\n Pentoxifylline (Trental) improves microvascular flow and appears to be effective against peripheral vascular disease.\\n Aldose reductase inhibitors are being investigated as therapy for diabetic neuropathy.\\n Prevention is the mainstay of management in these patients.\\n Patient education is essential to help maintain health and prevent the potential adverse effects of diabetes.\\n', ['C01', 'C05', 'C10', 'C14', 'C17', 'C19']] \n",
      "\n",
      "['0011767', 'The butterfly rash and the malar flush. What diseases do these signs reflect?\\n The butterfly rash and malar flush are common facial manifestations of several disorders.\\n Systemic lupus erythematosus may produce a transient rash before any other signs.\\n In pellagra, symmetric keratotic areas on the face are always accompanied by lesions elsewhere on the body.\\n Erysipelas produces brawny, fiery red facial lesions, and scarlet fever causes facial eruptions as part of a generalized eruption.\\n Lupus vulgaris and lupus pernio produce nodules that may spread in a butterfly pattern, and seborrheic dermatitis has a predilection for the malar prominences and other areas of the face.\\n Carcinoid syndrome often causes flushing attacks that vary in duration, and facial flushing that lasts throughout treatment may accompany chemotherapy if the patient has a hypersensitivity reaction.\\n Deep-red rashes and/or lichenoid lesions may be caused by graft-versus-host disease in a patient undergoing bone marrow transplantation.\\n', ['C01', 'C04', 'C15', 'C17', 'C18', 'C20', 'C23']] \n",
      "\n",
      "['0047695', \"Resolution of microsporidial epithelial keratopathy in a patient with AIDS.\\n A patient with a positive human immunodeficiency virus (HIV) titer and cryptococcal meningitis suffered bilateral epithelial keratopathy caused by Encephalitozoon, which did not respond to sulfas, erythromycin, bacitracin, tobramycin, neomycin, polymyxin B, or fluconazole.\\n Eventual administration of itraconazole for the meningitis apparently produced resolution of the long-lasting (2-month) ocular infection.\\n This new oral triazole antifungal may be valuable against the increasingly prevalent microsporidial infections in patients with acquired immune deficiency syndrome.\\n Debulking of the infection by corneal scraping may have contributed to the authors' success.\\n\", ['C01', 'C02', 'C03', 'C10', 'C11', 'C20']] \n",
      "\n"
     ]
    }
   ],
   "source": [
    "x = [example for example in multilabel_corpus if len(example[2])>5]\n",
    "for example in x[0:3]:\n",
    "    print (example, \"\\n\")"
   ]
  },
  {
   "cell_type": "markdown",
   "metadata": {},
   "source": [
    "# Milestones\n",
    "\n",
    "## Phase 1: Multi-class classification (Milestones 1 and 2) \n",
    "In this phase, you will work with the given multi-class training and test sets. \n",
    "You should use micro-averaged F1-score as the evaluation/optimization metric. \n",
    "See: http://scikit-learn.org/stable/modules/generated/sklearn.metrics.f1_score.html \n",
    "\n",
    "\n",
    "### 1.1 Train a bag-of-words ANN as the baseline classifier\n",
    "Train a bag-of-words ANN classifier on the multi-class training data, and then predict (assign) a label for each given document in the multi-class test set. Report your results with different network hyperparameters.\n",
    "\n",
    "You should also try using the pre-trained word-embeddings: http://evexdb.org/pmresources/vec-space-models/PubMed-and-PMC-w2v.bin (see: http://bio.nlplab.org/pdf/pyysalo13literature.pdf). Try using 100K, 200K, 500K and 1M top most frequent words in the model. \n",
    "\n",
    "\n",
    "### 1.2 Improve classification performance using CNNs\n",
    "In this step, you have to improve the classification performance by training different ConvNets. This means you should try to achieve a micro-averaged F1-score higher than what you had achieved using the bag-of-words ANN, on the test set. \n",
    "\n",
    "- Try different CNN architectures, like using multiple convolutional layers with different window sizes. \n",
    "- Try different activation functions. \n",
    "- Try adding one/more fully connected hidden layers after convolutional/pooling layers, before the decision layer.\n",
    "- Try using the given pre-trained word-embeddings.\n",
    "- Try various network hyperparameters. \n",
    "\n",
    "Analyze different neural network architectures and hyperparameters. \n",
    "Report the results you achieve using different architectures/hyperparameters. \n",
    "\n",
    "### 2.1 Analyze confusion-matrix \n",
    "For your best CNN architecture, print (or plot) the confusion matrix for the test set. \n",
    "(See: https://en.wikipedia.org/wiki/Confusion_matrix), and analyze this matrix. For example, you should report what are the easiest/hardest labels to predict (i.e., for what labels, your classifier works best/worst) ? \n",
    "What labels are very hard to distinguish (separate) from each other? \n",
    "\n",
    "### 2.2 Analyze the convolutional kernels\n",
    "Using the example codes shown during the lectures, analyze where your convolutional kernels are activating. Try to explain what each convolutional kernel learns.  \n",
    "\n",
    "## Phase 2: Multi-label classification (Milestone 3) \n",
    "In this phase, you have to work with the given multi-label dataset. \n",
    "Because there is no separate train/test set, you should first randomly partition the corpus into 65% training and 35% test set. \n",
    "\n",
    "- Note that a single document may be associated with more than one label! \n",
    "- Use <b>the same</b> training/test set split for all of your experiments! \n",
    "- Use f1-score or accuracy for optimization/evaluation. \n",
    "\n",
    "### 3. CNNs for multi-label dataset\n",
    "- Modify the CNN architecture/learning parameters so that it can be used for multi-label document classification. \n",
    "- Explain the main differences between your multi-class and multi-label setup. \n",
    "- Train the network on your training set and then predict labels for each of the documents in your test set. \n",
    "- Try to optimize your CNN to achieve higher score on the test set. \n",
    "- Comprehensively discuss how your CNN performs on the test set for multi-label classification. \n"
   ]
  },
  {
   "cell_type": "code",
   "execution_count": null,
   "metadata": {},
   "outputs": [],
   "source": []
  }
 ],
 "metadata": {
  "kernelspec": {
   "display_name": "Python 3",
   "language": "python",
   "name": "python3"
  },
  "language_info": {
   "codemirror_mode": {
    "name": "ipython",
    "version": 3
   },
   "file_extension": ".py",
   "mimetype": "text/x-python",
   "name": "python",
   "nbconvert_exporter": "python",
   "pygments_lexer": "ipython3",
   "version": "3.5.2"
  }
 },
 "nbformat": 4,
 "nbformat_minor": 2
}
