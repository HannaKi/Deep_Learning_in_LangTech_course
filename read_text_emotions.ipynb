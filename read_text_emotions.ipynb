{
 "cells": [
  {
   "cell_type": "markdown",
   "metadata": {},
   "source": [
    "# Read comma separated file (csv) --- Sentiment Analysis: Emotions in Text\n",
    "\n",
    "The code below can read the **Sentiment Analysis: Emotions in Text** dataset, which consists of one file containing tweets and their emotion labels (neutral, worry, happiness, sadness, love, surprise, fun, relief, hate, empty, enthusiasm, boredom, anger).\n",
    "\n",
    "The code extracts the emotion label and the actual tweet text for each example, and outputs the a list of dictionaries in JSON format.\n",
    "\n",
    "The data originates from: https://www.crowdflower.com/wp-content/uploads/2016/07/text_emotion.csv"
   ]
  },
  {
   "cell_type": "code",
   "execution_count": 3,
   "metadata": {},
   "outputs": [],
   "source": [
    "import csv\n",
    "\n",
    "def read_twitter_emotions(file_name):\n",
    "    \"\"\" Read Twitter Emotions in Text CSV data file and return as JSON \"\"\"\n",
    "    print(\"Reading\", file_name)\n",
    "    data = []\n",
    "    csvfile = open(file_name, \"r\")\n",
    "    for i, line in enumerate(csv.DictReader(csvfile, delimiter=\",\", fieldnames=None)): # csv.DictReader returns each line as dictionary, if fieldnames are not given, it assumes that first line in the file defines fieldnames \n",
    "        if i % 1000 == 999:\n",
    "            print(i+1, \"tweets\")\n",
    "        one_example={}\n",
    "        one_example[\"text\"]=line[\"content\"] # we have (tweet_id, sentiment, author and content) in the original data\n",
    "        one_example[\"class\"] = line[\"sentiment\"]\n",
    "        data.append(one_example)\n",
    "    return data"
   ]
  },
  {
   "cell_type": "code",
   "execution_count": 4,
   "metadata": {},
   "outputs": [
    {
     "name": "stdout",
     "output_type": "stream",
     "text": [
      "Reading data/text_emotion.csv\n",
      "1000 tweets\n",
      "2000 tweets\n",
      "3000 tweets\n",
      "4000 tweets\n",
      "5000 tweets\n",
      "6000 tweets\n",
      "7000 tweets\n",
      "8000 tweets\n",
      "9000 tweets\n",
      "10000 tweets\n",
      "11000 tweets\n",
      "12000 tweets\n",
      "13000 tweets\n",
      "14000 tweets\n",
      "15000 tweets\n",
      "16000 tweets\n",
      "17000 tweets\n",
      "18000 tweets\n",
      "19000 tweets\n",
      "20000 tweets\n",
      "21000 tweets\n",
      "22000 tweets\n",
      "23000 tweets\n",
      "24000 tweets\n",
      "25000 tweets\n",
      "26000 tweets\n",
      "27000 tweets\n",
      "28000 tweets\n",
      "29000 tweets\n",
      "30000 tweets\n",
      "31000 tweets\n",
      "32000 tweets\n",
      "33000 tweets\n",
      "34000 tweets\n",
      "35000 tweets\n",
      "36000 tweets\n",
      "37000 tweets\n",
      "38000 tweets\n",
      "39000 tweets\n",
      "40000 tweets\n",
      "Examples: 40000\n",
      "Fist example: {'text': '@tiffanylue i know  i was listenin to bad habit earlier and i started freakin at his part =[', 'class': 'empty'}\n"
     ]
    }
   ],
   "source": [
    "data=read_twitter_emotions(\"data/text_emotion.csv\")\n",
    "print(\"Examples:\", len(data))\n",
    "print(\"Fist example:\", data[0])"
   ]
  },
  {
   "cell_type": "markdown",
   "metadata": {},
   "source": [
    "### Here we calculate simple label statistics to be aware how many times each label appears in the data."
   ]
  },
  {
   "cell_type": "code",
   "execution_count": 5,
   "metadata": {},
   "outputs": [
    {
     "name": "stdout",
     "output_type": "stream",
     "text": [
      "Labels: [('neutral', 8638), ('worry', 8459), ('happiness', 5209), ('sadness', 5165), ('love', 3842), ('surprise', 2187), ('fun', 1776), ('relief', 1526), ('hate', 1323), ('empty', 827), ('enthusiasm', 759), ('boredom', 179), ('anger', 110)]\n"
     ]
    }
   ],
   "source": [
    "from collections import Counter\n",
    "label_counter=Counter()\n",
    "for example in data:\n",
    "    label_counter.update([example[\"class\"]]) # counter.update needs a list of new items, more efficient would be label_counter=Counter([item[\"class\"] for item in data]), because then we update the counter only once\n",
    "print(\"Labels:\", label_counter.most_common(20))"
   ]
  },
  {
   "cell_type": "markdown",
   "metadata": {},
   "source": [
    "--> Does \"empty\" mean empty feeling or empty annotation?\n",
    "\n",
    "### Save data into JSON for later use"
   ]
  },
  {
   "cell_type": "code",
   "execution_count": 6,
   "metadata": {},
   "outputs": [
    {
     "name": "stdout",
     "output_type": "stream",
     "text": [
      "{'text': '@tiffanylue i know  i was listenin to bad habit earlier and i started freakin at his part =[', 'class': 'empty'}\n"
     ]
    }
   ],
   "source": [
    "import json\n",
    "\n",
    "print(data[0])\n",
    "with open(\"data/text_emotion.json\",\"wt\") as f:\n",
    "    json.dump(data,f,indent=2) # indent: data will be pretty-printed with that indent level"
   ]
  }
 ],
 "metadata": {
  "kernelspec": {
   "display_name": "Python 3",
   "language": "python",
   "name": "python3"
  },
  "language_info": {
   "codemirror_mode": {
    "name": "ipython",
    "version": 3
   },
   "file_extension": ".py",
   "mimetype": "text/x-python",
   "name": "python",
   "nbconvert_exporter": "python",
   "pygments_lexer": "ipython3",
   "version": "3.5.2"
  }
 },
 "nbformat": 4,
 "nbformat_minor": 2
}
