{
 "cells": [
  {
   "cell_type": "markdown",
   "metadata": {},
   "source": [
    "# Bag-of-words classifier with pretrained word embeddings\n",
    "\n",
    "- During the lecture we will cover the concept of embeddings and the simple word2vec method\n",
    "- If we have a trained word embeddings model, we can transfer that knowledge into a new task and model (transfer learning)\n",
    "- What we achieve here: Initialize the weights in the classifier with pretrained word embeddings\n",
    "- Word embeddings downloaded at: https://dl.fbaipublicfiles.com/fasttext/vectors-english/wiki-news-300d-1M.vec.zip\n",
    "\n",
    "### Read data"
   ]
  },
  {
   "cell_type": "code",
   "execution_count": 13,
   "metadata": {},
   "outputs": [
    {
     "name": "stdout",
     "output_type": "stream",
     "text": [
      "{'class': 'neg', 'text': 'Just finished this movie... saw it on the video shelf and being a Nick Stahl fan I just had to rent it. In all honesty, it probably should have stayed on the shelf. The concept was an interesting one and there were several fairly smart twists and turns but somehow I guessed almost all of them before they came along. And the movie just went a little too far in the end in my opinion... if you have to suffer through a viewing of it you\\'ll see what I mean!  On a positive note, Nick Stahl\\'s acting was great (especially considering what he had to work with). Eddie Kaye Thomas was also good but he always plays the same type of character... too much Paul Finch from \\\\American Pie\\\\\" coming through for my liking.  And finally, the worst part of this movie has to be January Jones\\' emotionless performance... I guess a pretty face really is all that matters in Hollywood.\"'}\n",
      "['Just finished this movie... saw it on the video shelf and being a Nick Stahl fan I just had to rent it. In all honesty, it probably should have stayed on the shelf. The concept was an interesting one and there were several fairly smart twists and turns but somehow I guessed almost all of them before they came along. And the movie just went a little too far in the end in my opinion... if you have to suffer through a viewing of it you\\'ll see what I mean!  On a positive note, Nick Stahl\\'s acting was great (especially considering what he had to work with). Eddie Kaye Thomas was also good but he always plays the same type of character... too much Paul Finch from \\\\American Pie\\\\\" coming through for my liking.  And finally, the worst part of this movie has to be January Jones\\' emotionless performance... I guess a pretty face really is all that matters in Hollywood.\"', \"This is a excellent series. You will laugh, you will cry, these wonderful people will be a part of your family. The way this family cares for one another and helps each other through their crisis sets a great example of the way we should live our lives. There are many good things they do, and a number of bad choices, but they never turn their backs on family, they work through problems. Michelle, the youngest daughter, is the cutest thing I've seen. Stephanie, the middle daughter, suffers with Middle Child Syndrome and with the help of EVERYONE in the family it's better. DJ, the oldest daughter, is growing up whether her dad wants it to happen or not. One thing they all share is they miss their mom. Danny (Dad), Joey, and Uncle Jesse love these kids so much, and it's apparent in every episode.\"]\n",
      "['neg', 'pos']\n"
     ]
    }
   ],
   "source": [
    "import json\n",
    "import random\n",
    "with open(\"data/imdb_train.json\") as f:\n",
    "    data=json.load(f)\n",
    "random.shuffle(data) \n",
    "print(data[0])\n",
    "\n",
    "# We need to gather the texts, into a list\n",
    "texts=[one_example[\"text\"] for one_example in data]\n",
    "labels=[one_example[\"class\"] for one_example in data]\n",
    "print(texts[:2])\n",
    "print(labels[:2])"
   ]
  },
  {
   "cell_type": "markdown",
   "metadata": {},
   "source": [
    "### Use gensim to read the embedding model"
   ]
  },
  {
   "cell_type": "code",
   "execution_count": 3,
   "metadata": {},
   "outputs": [],
   "source": [
    "from gensim.models import KeyedVectors\n",
    "\n",
    "#Only grab the 100K most common entries\n",
    "vector_model=KeyedVectors.load_word2vec_format(\"data/wiki-news-300d-1M.vec\", binary=False, limit=100000)"
   ]
  },
  {
   "cell_type": "code",
   "execution_count": 10,
   "metadata": {},
   "outputs": [
    {
     "name": "stdout",
     "output_type": "stream",
     "text": [
      "Words from embedding model: 100000\n",
      "First 50 words: [',', 'the', '.', 'and', 'of', 'to', 'in', 'a', '\"', ':', ')', 'that', '(', 'is', 'for', 'on', '*', 'with', 'as', 'it', 'The', 'or', 'was', \"'\", \"'s\", 'by', 'from', 'at', 'I', 'this', 'you', '/', 'are', '=', 'not', '-', 'have', '?', 'be', 'which', ';', 'all', 'his', 'has', 'one', 'their', 'about', 'but', 'an', '|']\n"
     ]
    }
   ],
   "source": [
    "# sort based on the index to make sure they are in the correct order\n",
    "words=[k for k,v in sorted(vector_model.vocab.items(), key=lambda x:x[1].index)]\n",
    "print(\"Words from embedding model:\",len(words))\n",
    "print(\"First 50 words:\",words[:50])"
   ]
  },
  {
   "cell_type": "markdown",
   "metadata": {},
   "source": [
    "### Normalize the vectors\n",
    "\n",
    "- Easier to learn on top of these vectors when the magnitude does not vary much"
   ]
  },
  {
   "cell_type": "code",
   "execution_count": 11,
   "metadata": {},
   "outputs": [
    {
     "name": "stdout",
     "output_type": "stream",
     "text": [
      "Before normalization: [-0.0234 -0.0268 -0.0838  0.0386 -0.0321  0.0628  0.0281 -0.0252  0.0269\n",
      " -0.0063]\n",
      "After normalization: [-0.0163762  -0.01875564 -0.05864638  0.02701372 -0.02246478  0.04394979\n",
      "  0.01966543 -0.0176359   0.01882563 -0.00440898]\n"
     ]
    }
   ],
   "source": [
    "print(\"Before normalization:\",vector_model.get_vector(\"in\")[:10])\n",
    "vector_model.init_sims(replace=True)\n",
    "print(\"After normalization:\",vector_model.get_vector(\"in\")[:10])"
   ]
  },
  {
   "cell_type": "markdown",
   "metadata": {},
   "source": [
    "### Text analyzer and vectorizer\n",
    "\n",
    "- When we use an embedding layer (keras.layers.Embedding) the input data must be a sequence, not a bag-of-words vector\n",
    "- You can use CountVectorizer only as an analyzer without building the feature matrix\n",
    "- We will then build the vectorizer part later ourselves"
   ]
  },
  {
   "cell_type": "code",
   "execution_count": 14,
   "metadata": {},
   "outputs": [
    {
     "name": "stdout",
     "output_type": "stream",
     "text": [
      "['Just', 'finished', 'this', 'movie', 'saw', 'it', 'on', 'the', 'video', 'shelf', 'and', 'being', 'Nick', 'Stahl', 'fan', 'just', 'had', 'to', 'rent', 'it', 'In', 'all', 'honesty', 'it', 'probably', 'should', 'have', 'stayed', 'on', 'the', 'shelf', 'The', 'concept', 'was', 'an', 'interesting', 'one', 'and', 'there', 'were', 'several', 'fairly', 'smart', 'twists', 'and', 'turns', 'but', 'somehow', 'guessed', 'almost', 'all', 'of', 'them', 'before', 'they', 'came', 'along', 'And', 'the', 'movie', 'just', 'went', 'little', 'too', 'far', 'in', 'the', 'end', 'in', 'my', 'opinion', 'if', 'you', 'have', 'to', 'suffer', 'through', 'viewing', 'of', 'it', 'you', 'll', 'see', 'what', 'mean', 'On', 'positive', 'note', 'Nick', 'Stahl', 'acting', 'was', 'great', 'especially', 'considering', 'what', 'he', 'had', 'to', 'work', 'with', 'Eddie', 'Kaye', 'Thomas', 'was', 'also', 'good', 'but', 'he', 'always', 'plays', 'the', 'same', 'type', 'of', 'character', 'too', 'much', 'Paul', 'Finch', 'from', 'American', 'Pie', 'coming', 'through', 'for', 'my', 'liking', 'And', 'finally', 'the', 'worst', 'part', 'of', 'this', 'movie', 'has', 'to', 'be', 'January', 'Jones', 'emotionless', 'performance', 'guess', 'pretty', 'face', 'really', 'is', 'all', 'that', 'matters', 'in', 'Hollywood']\n"
     ]
    }
   ],
   "source": [
    "from sklearn.feature_extraction.text import CountVectorizer\n",
    "import numpy\n",
    "analyzer=CountVectorizer(lowercase=False).build_analyzer() # includes tokenizer and preprocessing\n",
    "print(analyzer(texts[0]))\n",
    "\n"
   ]
  },
  {
   "cell_type": "markdown",
   "metadata": {},
   "source": [
    "### Expand the vocabulary using words from the embedding model\n",
    "\n",
    "- The embedding model usually knows more words than the task specific model, because it has seen a lot more data\n",
    "- If you wish, you can use the embedding model vocabulary to expand the task specific one"
   ]
  },
  {
   "cell_type": "code",
   "execution_count": 8,
   "metadata": {
    "scrolled": true
   },
   "outputs": [
    {
     "name": "stdout",
     "output_type": "stream",
     "text": [
      "Words from embedding model: 47944\n"
     ]
    }
   ],
   "source": [
    "# init the vectorizer vocabulary using words from the embedding model\n",
    "def init_vocabulary(vocab, text, text_analyzer):\n",
    "    for word in analyzer(text):\n",
    "        vocab.setdefault(word, len(vocab))\n",
    "    return vocab\n",
    "\n",
    "words_from_model=\" \".join(words[:50000]) # use 50K words from the embedding model to initialize the vocabulary --> expands the learned vocabulary\n",
    "vocabulary={\"<SPECIAL>\": 0} # zero has a special meaning in sequence models, prevent using it for a normal word\n",
    "vocabulary=init_vocabulary(vocabulary, words_from_model, analyzer)\n",
    "print(\"Words from embedding model:\",len(vocabulary))\n"
   ]
  },
  {
   "cell_type": "markdown",
   "metadata": {},
   "source": [
    "### Vectorizer\n",
    "\n",
    "- Build a dictionary to turn words into numbers, here we use the one which we initialized with the embedding model\n",
    "- Vectorizing a sequence: In our data each example is a list of words, we need to turn each example into list of numbers"
   ]
  },
  {
   "cell_type": "code",
   "execution_count": 9,
   "metadata": {},
   "outputs": [
    {
     "name": "stdout",
     "output_type": "stream",
     "text": [
      "Words in vocabulary: 105571\n",
      "Vectorized data shape: (25000,)\n",
      "First example vectorized: [23, 5824, 75, 3, 31, 2414, 74, 2185, 177, 107, 15, 29, 3, 1, 3834, 2414, 23, 463, 481, 405, 165, 109, 6573, 97, 33, 2672, 3, 12, 333, 23, 87, 5, 19132, 6, 633, 841, 12, 5, 1, 3317, 55, 12, 524, 75, 121, 725, 5317, 110, 1322, 1, 106, 32, 2225, 6, 25615, 5923, 3194, 12287, 5, 12, 113, 333, 23, 194, 2336, 84, 4, 24, 12742, 74, 47, 9328, 9, 12, 266, 47944, 47945, 47946]\n",
      "First example text: ['have', 'walked', 'out', 'of', 'about', 'movies', 'my', 'entire', 'life', 'This', 'was', 'one', 'of', 'the', 'worst', 'movies', 'have', 'ever', 'seen', 'don', 'know', 'how', 'sat', 'through', 'an', 'hour', 'of', 'it', 'must', 'have', 'been', 'in', 'coma', 'that', 'night', 'saw', 'it', 'in', 'the', 'theatre', 'when', 'it', 'came', 'out', 'years', 'ago', 'couldn', 'even', 'remember', 'the', 'name', 'but', 'knew', 'that', 'Penelope', 'Ann', 'Miller', 'starred', 'in', 'it', 'It', 'must', 'have', 'really', 'affected', 'me', 'to', 'be', 'wasting', 'my', 'time', 'commenting', 'on', 'it', 'today', 'Yech', 'Vomit', 'Barf']\n"
     ]
    }
   ],
   "source": [
    "def vectorizer(vocab, texts):\n",
    "    vectorized_data=[] # turn text into numbers based on our vocabulary mapping\n",
    "    for one_example in texts:\n",
    "        vectorized_example=[]\n",
    "        for word in analyzer(one_example):\n",
    "            vocab.setdefault(word, len(vocab)) # add word to our vocabulary if it does not exist\n",
    "            vectorized_example.append(vocab[word])\n",
    "        vectorized_data.append(vectorized_example)\n",
    "    \n",
    "    vectorized_data=numpy.array(vectorized_data) # turn python list into numpy matrix\n",
    "    return vectorized_data, vocab\n",
    "\n",
    "vectorized_data, vocabulary=vectorizer(vocabulary, texts)\n",
    "\n",
    "# now vectorized data is the same as feature_matrix, but in different format\n",
    "print(\"Words in vocabulary:\",len(vocabulary))\n",
    "print(\"Vectorized data shape:\",vectorized_data.shape)\n",
    "print(\"First example vectorized:\",vectorized_data[0])\n",
    "inversed_vocabulary={value:key for key, value in vocabulary.items()} # inverse the dictionary\n",
    "print(\"First example text:\",[inversed_vocabulary[idx] for idx in vectorized_data[0]])\n",
    "        "
   ]
  },
  {
   "cell_type": "markdown",
   "metadata": {},
   "source": [
    "### Labels into numerical vectors\n",
    "\n",
    "- Same as in the original BOW classifier"
   ]
  },
  {
   "cell_type": "code",
   "execution_count": 10,
   "metadata": {},
   "outputs": [
    {
     "name": "stdout",
     "output_type": "stream",
     "text": [
      "class_numbers shape= (25000,)\n",
      "class_numbers [0 0 1 ... 0 0 1]\n",
      "class labels ['neg' 'pos']\n"
     ]
    }
   ],
   "source": [
    "from sklearn.preprocessing import LabelEncoder\n",
    "\n",
    "label_encoder=LabelEncoder() #Turns class labels into integers\n",
    "class_numbers=label_encoder.fit_transform(labels)\n",
    "print(\"class_numbers shape=\",class_numbers.shape)\n",
    "print(\"class_numbers\",class_numbers)\n",
    "print(\"class labels\",label_encoder.classes_)\n"
   ]
  },
  {
   "cell_type": "markdown",
   "metadata": {},
   "source": [
    "## Network\n",
    "\n",
    "- First we need to create an embedding matrix which we can then plug into the neural network\n",
    "- The embedding matrix must follow the order from the vectorizer"
   ]
  },
  {
   "cell_type": "code",
   "execution_count": 11,
   "metadata": {},
   "outputs": [
    {
     "name": "stdout",
     "output_type": "stream",
     "text": [
      "Found pretrained vectors for 63848 words.\n",
      "Shape of pretrained embeddings: (105571, 300)\n",
      "Vector for the word 'in': [-0.0163762  -0.01875564 -0.05864638  0.02701372 -0.02246478  0.04394979\n",
      "  0.01966543 -0.0176359   0.01882563 -0.00440898]\n"
     ]
    }
   ],
   "source": [
    "def load_pretrained_embeddings(vocab, embedding_model):\n",
    "    \"\"\" vocab: vocabulary from our data vectorizer, embedding_model: model loaded with gensim \"\"\"\n",
    "    pretrained_embeddings=numpy.random.uniform(low=-0.05, high=0.05, size=(len(vocab),embedding_model.vectors.shape[1])) # initialize new matrix (words x embedding dim)\n",
    "    found=0\n",
    "    for word,idx in vocab.items():\n",
    "        if word in embedding_model.vocab:\n",
    "            pretrained_embeddings[idx]=embedding_model.get_vector(word)\n",
    "            found+=1\n",
    "            \n",
    "    print(\"Found pretrained vectors for {found} words.\".format(found=found))\n",
    "    return pretrained_embeddings\n",
    "\n",
    "pretrained=load_pretrained_embeddings(vocabulary, vector_model)\n",
    "print(\"Shape of pretrained embeddings:\",pretrained.shape)\n",
    "print(\"Vector for the word 'in':\",pretrained[vocabulary[\"in\"]][:10])\n"
   ]
  },
  {
   "cell_type": "markdown",
   "metadata": {},
   "source": [
    "### Sequential input\n",
    "\n",
    "- Remember how the shape of the input data matrix had undefined number of columns\n",
    "- Now we must make it into fixed size (same for each example)\n",
    "- Padding: include zeros until you reach the correct size\n",
    "- You will hear more about this next week!"
   ]
  },
  {
   "cell_type": "code",
   "execution_count": 13,
   "metadata": {},
   "outputs": [
    {
     "name": "stdout",
     "output_type": "stream",
     "text": [
      "Old shape: (25000,)\n",
      "New shape: (25000, 2366)\n",
      "First example: [  23 5824   75 ...    0    0    0]\n"
     ]
    }
   ],
   "source": [
    "from keras.preprocessing.sequence import pad_sequences\n",
    "print(\"Old shape:\", vectorized_data.shape)\n",
    "vectorized_data_padded=pad_sequences(vectorized_data, padding='post')\n",
    "print(\"New shape:\", vectorized_data_padded.shape)\n",
    "print(\"First example:\", vectorized_data_padded[0])"
   ]
  },
  {
   "cell_type": "markdown",
   "metadata": {},
   "source": [
    "Now we need to define a new keras layer for later use. You should not need anything like this after next weeks when we will show you convolutional layers and LSTMs."
   ]
  },
  {
   "cell_type": "code",
   "execution_count": 19,
   "metadata": {},
   "outputs": [],
   "source": [
    "from keras.layers import Layer\n",
    "from keras import backend as K\n",
    "import tensorflow as tf\n",
    "\n",
    "class MaskedAveragePooling(Layer):\n",
    "    def __init__(self, **kwargs):\n",
    "        self.supports_masking = True\n",
    "        super(MaskedAveragePooling, self).__init__(**kwargs)\n",
    "\n",
    "    def compute_mask(self, input, input_mask=None):\n",
    "        # do not pass the mask to the next layers\n",
    "        return None\n",
    "\n",
    "    def call(self, x, mask=None):\n",
    "        if mask is not None:\n",
    "            # mask (batch, time)\n",
    "            mask = K.cast(mask, K.floatx())\n",
    "            # mask (batch, x_dim, time)\n",
    "            mask = K.repeat(mask, x.shape[-1])\n",
    "            # mask (batch, time, x_dim)\n",
    "            mask = tf.transpose(mask, perm=[0,2,1])\n",
    "            x = x * mask\n",
    "        return K.sum(x, axis=1) / K.sum(mask, axis=1)\n",
    "\n",
    "    def compute_output_shape(self, input_shape):\n",
    "        # remove temporal dimension\n",
    "        return input_shape[0], input_shape[2]"
   ]
  },
  {
   "cell_type": "markdown",
   "metadata": {},
   "source": [
    "### Our network structure:\n",
    "\n",
    "- Input layer, Embedding layer with pretrained weights, Average of embeddings, Non-linear activation, Classification layer\n",
    "- The key point here is the embedding layer"
   ]
  },
  {
   "cell_type": "code",
   "execution_count": null,
   "metadata": {},
   "outputs": [
    {
     "name": "stdout",
     "output_type": "stream",
     "text": [
      "Model: \"model_3\"\n",
      "_________________________________________________________________\n",
      "Layer (type)                 Output Shape              Param #   \n",
      "=================================================================\n",
      "input_5 (InputLayer)         (None, 2366)              0         \n",
      "_________________________________________________________________\n",
      "embedding_5 (Embedding)      (None, 2366, 300)         31671300  \n",
      "_________________________________________________________________\n",
      "masked_average_pooling_5 (Ma (None, 300)               0         \n",
      "_________________________________________________________________\n",
      "activation_3 (Activation)    (None, 300)               0         \n",
      "_________________________________________________________________\n",
      "dense_3 (Dense)              (None, 2)                 602       \n",
      "=================================================================\n",
      "Total params: 31,671,902\n",
      "Trainable params: 31,671,902\n",
      "Non-trainable params: 0\n",
      "_________________________________________________________________\n",
      "None\n",
      "Train on 22500 samples, validate on 2500 samples\n",
      "Epoch 1/50\n",
      "22500/22500 [==============================] - 344s 15ms/step - loss: 0.5293 - accuracy: 0.7956 - val_loss: 0.3596 - val_accuracy: 0.8680\n",
      "Epoch 2/50\n",
      "22500/22500 [==============================] - 304s 14ms/step - loss: 0.2794 - accuracy: 0.9012 - val_loss: 0.2693 - val_accuracy: 0.8988\n",
      "Epoch 3/50\n",
      "20200/22500 [=========================>....] - ETA: 30s - loss: 0.1873 - accuracy: 0.9401"
     ]
    }
   ],
   "source": [
    "from keras.models import Model\n",
    "from keras.layers import Input, Dense, Embedding, Activation\n",
    "from keras import backend as K\n",
    "from keras.layers.core import Lambda\n",
    "from keras.optimizers import SGD, Adam\n",
    "\n",
    "\n",
    "example_count,sequence_len=vectorized_data_padded.shape\n",
    "class_count=len(label_encoder.classes_)\n",
    "vector_size=pretrained.shape[1] # embedding dim (\"hidden layer\") must be the same as in the pretrained model\n",
    "\n",
    "inp=Input(shape=(sequence_len,))\n",
    "embeddings=Embedding(len(vocabulary), vector_size, mask_zero=True, weights=[pretrained])(inp)\n",
    "average_embeddings=MaskedAveragePooling()(embeddings) # custom layer we defined above\n",
    "tanh=Activation(\"tanh\")(average_embeddings)\n",
    "outp=Dense(class_count, activation=\"softmax\")(tanh)\n",
    "model=Model(inputs=[inp], outputs=[outp])\n",
    "\n",
    "optimizer=Adam(lr=0.001) # define the learning rate\n",
    "model.compile(optimizer=optimizer,loss=\"sparse_categorical_crossentropy\",metrics=['accuracy'])\n",
    "\n",
    "print(model.summary())\n",
    "\n",
    "# train\n",
    "hist=model.fit(vectorized_data_padded,class_numbers,batch_size=100,verbose=1,epochs=50,validation_split=0.1)"
   ]
  },
  {
   "cell_type": "code",
   "execution_count": 13,
   "metadata": {},
   "outputs": [
    {
     "name": "stdout",
     "output_type": "stream",
     "text": [
      "History: [0.7675999927520752, 0.7840000009536743, 0.7995999956130981, 0.8043999981880188, 0.821999990940094, 0.8323999953269958, 0.842000002861023, 0.8496000003814698, 0.8607999992370605, 0.8672000002861023, 0.8744000029563904, 0.8764000058174133, 0.8792000079154968, 0.881200008392334, 0.8828000044822693, 0.8856000018119812, 0.8872000074386597, 0.8880000042915345, 0.8900000047683716, 0.8912000083923339, 0.8928000092506408, 0.8952000069618226, 0.8971999979019165, 0.8964000010490417, 0.898800003528595, 0.8980000042915344, 0.8960000038146972, 0.8984000039100647, 0.8980000019073486, 0.8984000039100647, 0.9004000043869018, 0.9000000023841858, 0.898400001525879, 0.9, 0.8984000039100647, 0.898400001525879, 0.9000000023841858, 0.9, 0.9, 0.9016000008583069, 0.9004000020027161, 0.9016000032424927, 0.9008000016212463, 0.9000000023841858, 0.903199999332428, 0.9015999984741211, 0.901199996471405, 0.8999999976158142, 0.8996000003814697, 0.9007999992370606]\n",
      "Max accuracy: 0.903199999332428\n"
     ]
    },
    {
     "data": {
      "image/png": "[encoded data removed]",
      "text/plain": [
       "<matplotlib.figure.Figure at 0x7f1463828ba8>"
      ]
     },
     "metadata": {},
     "output_type": "display_data"
    }
   ],
   "source": [
    "%matplotlib inline\n",
    "import matplotlib.pyplot as plt\n",
    "print(\"History:\",hist.history[\"val_acc\"])\n",
    "print(\"Max accuracy:\",numpy.max(hist.history[\"val_acc\"]))\n",
    "plt.ylim(0.85,1.0)\n",
    "plt.plot(hist.history[\"val_acc\"],label=\"Validation set accuracy\")\n",
    "plt.plot(hist.history[\"acc\"],label=\"Training set accuracy\")\n",
    "plt.legend()\n",
    "plt.show()"
   ]
  }
 ],
 "metadata": {
  "kernelspec": {
   "display_name": "Python 3",
   "language": "python",
   "name": "python3"
  },
  "language_info": {
   "codemirror_mode": {
    "name": "ipython",
    "version": 3
   },
   "file_extension": ".py",
   "mimetype": "text/x-python",
   "name": "python",
   "nbconvert_exporter": "python",
   "pygments_lexer": "ipython3",
   "version": "3.7.5"
  }
 },
 "nbformat": 4,
 "nbformat_minor": 4
}
