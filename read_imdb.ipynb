{
 "cells": [
  {
   "cell_type": "markdown",
   "metadata": {},
   "source": [
    "# Read Comma/Tab Separated Values (CSV/TSV) file: IMDb Sentiment\n",
    "\n",
    "The code below can be used to read the Internet Movie Database (IMDb) Sentiment data set, which consists of two files containing moview reviews and their known sentiment labels (0/1 = negative/positive), and another file containing reviews only. The reviews with labels can be used for training and testing (supervised learning), while the unlabeled data can be used for unsupervised learning (e.g., learning word embeddings).\n",
    "\n",
    "As the files are read, the code extracts the review text and the sentiment class (if present), and outputs a list of dictionaries in JSON format.\n",
    "\n",
    "The tsv-formated data originates from: https://www.kaggle.com/c/word2vec-nlp-tutorial"
   ]
  },
  {
   "cell_type": "code",
   "execution_count": null,
   "metadata": {
    "collapsed": true
   },
   "outputs": [],
   "source": [
    "import csv\n",
    "\n",
    "\n",
    "def read_imdb(file_name):\n",
    "    \"\"\" Read IMDB Sentiment CSV data file and return as JSON \"\"\"\n",
    "    print(\"Reading\", file_name)\n",
    "    data = []\n",
    "    csvfile = open(file_name, 'r')\n",
    "    for i, line in enumerate(csv.DictReader(csvfile, delimiter=\"\\t\")):\n",
    "        if i % 1000 == 999:\n",
    "            print(i+1, \"comments\")\n",
    "        line['text'] = line['review']\n",
    "        if 'sentiment' in line:\n",
    "            line['class'] = int(line['sentiment'])\n",
    "        data.append(line)\n",
    "    return data\n"
   ]
  },
  {
   "cell_type": "code",
   "execution_count": null,
   "metadata": {
    "collapsed": true
   },
   "outputs": [],
   "source": [
    "data = read_imdb(\"/home/your_username/path_to_data/labeledTrainData.tsv\")"
   ]
  },
  {
   "cell_type": "code",
   "execution_count": null,
   "metadata": {
    "collapsed": true
   },
   "outputs": [],
   "source": []
  }
 ],
 "metadata": {
  "kernelspec": {
   "display_name": "Python 3",
   "language": "python",
   "name": "python3"
  },
  "language_info": {
   "codemirror_mode": {
    "name": "ipython",
    "version": 3
   },
   "file_extension": ".py",
   "mimetype": "text/x-python",
   "name": "python",
   "nbconvert_exporter": "python",
   "pygments_lexer": "ipython3",
   "version": "3.5.2"
  }
 },
 "nbformat": 4,
 "nbformat_minor": 2
}
