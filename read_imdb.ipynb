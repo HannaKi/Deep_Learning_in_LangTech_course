{
 "cells": [
  {
   "cell_type": "markdown",
   "metadata": {},
   "source": [
    "# Read Comma/Tab Separated Values (CSV/TSV) file: IMDb Sentiment\n",
    "\n",
    "The code below can be used to read the Internet Movie Database (IMDb) Sentiment data set, which consists of two files containing moview reviews and their known sentiment labels (0/1 = negative/positive), and another file containing reviews only. The reviews with labels can be used for training and testing (supervised learning), while the unlabeled data can be used for unsupervised learning (e.g., learning word embeddings).\n",
    "\n",
    "As the files are read, the code extracts the review text and the sentiment class (if present), and outputs a list of dictionaries in JSON format.\n",
    "\n",
    "The tsv-formated data originates from: https://www.kaggle.com/c/word2vec-nlp-tutorial"
   ]
  },
  {
   "cell_type": "code",
   "execution_count": 36,
   "metadata": {},
   "outputs": [],
   "source": [
    "import csv\n",
    "\n",
    "def read_imdb(file_name):\n",
    "    \"\"\" Read IMDB Sentiment CSV data file and return as JSON \"\"\"\n",
    "    print(\"Reading\", file_name)\n",
    "    data = []\n",
    "    csvfile = open(file_name, 'r')\n",
    "    for i, line in enumerate(csv.DictReader(csvfile, delimiter=\"\\t\")):\n",
    "        if i % 1000 == 999:\n",
    "            print(i+1, \"comments\")\n",
    "        one_example={}\n",
    "        one_example[\"text\"]=line['review']\n",
    "        if 'sentiment' in line:\n",
    "            one_example['class'] = line['sentiment']\n",
    "        data.append(one_example)\n",
    "    return data\n"
   ]
  },
  {
   "cell_type": "code",
   "execution_count": 37,
   "metadata": {},
   "outputs": [
    {
     "name": "stdout",
     "output_type": "stream",
     "text": [
      "Reading data/imdb_train.tsv\n",
      "1000 comments\n",
      "2000 comments\n",
      "3000 comments\n",
      "4000 comments\n",
      "5000 comments\n",
      "6000 comments\n",
      "7000 comments\n",
      "8000 comments\n",
      "9000 comments\n",
      "10000 comments\n",
      "11000 comments\n",
      "12000 comments\n",
      "13000 comments\n",
      "14000 comments\n",
      "15000 comments\n",
      "16000 comments\n",
      "17000 comments\n",
      "18000 comments\n",
      "19000 comments\n",
      "20000 comments\n",
      "21000 comments\n",
      "22000 comments\n",
      "23000 comments\n",
      "24000 comments\n",
      "25000 comments\n",
      "Reading data/imdb_test.tsv\n",
      "1000 comments\n",
      "2000 comments\n",
      "3000 comments\n",
      "4000 comments\n",
      "5000 comments\n",
      "6000 comments\n",
      "7000 comments\n",
      "8000 comments\n",
      "9000 comments\n",
      "10000 comments\n",
      "11000 comments\n",
      "12000 comments\n",
      "13000 comments\n",
      "14000 comments\n",
      "15000 comments\n",
      "16000 comments\n",
      "17000 comments\n",
      "18000 comments\n",
      "19000 comments\n",
      "20000 comments\n",
      "21000 comments\n",
      "22000 comments\n",
      "23000 comments\n",
      "24000 comments\n",
      "25000 comments\n",
      "{'text': \"With all this stuff going down at the moment with MJ i've started listening to his music, watching the odd documentary here and there, watched The Wiz and watched Moonwalker again. Maybe i just want to get a certain insight into this guy who i thought was really cool in the eighties just to maybe make up my mind whether he is guilty or innocent. Moonwalker is part biography, part feature film which i remember going to see at the cinema when it was originally released. Some of it has subtle messages about MJ's feeling towards the press and also the obvious message of drugs are bad m'kay.<br /><br />Visually impressive but of course this is all about Michael Jackson so unless you remotely like MJ in anyway then you are going to hate this and find it boring. Some may call MJ an egotist for consenting to the making of this movie BUT MJ and most of his fans would say that he made it for the fans which if true is really nice of him.<br /><br />The actual feature film bit when it finally starts is only on for 20 minutes or so excluding the Smooth Criminal sequence and Joe Pesci is convincing as a psychopathic all powerful drug lord. Why he wants MJ dead so bad is beyond me. Because MJ overheard his plans? Nah, Joe Pesci's character ranted that he wanted people to know it is he who is supplying drugs etc so i dunno, maybe he just hates MJ's music.<br /><br />Lots of cool things in this like MJ turning into a car and a robot and the whole Speed Demon sequence. Also, the director must have had the patience of a saint when it came to filming the kiddy Bad sequence as usually directors hate working with one kid let alone a whole bunch of them performing a complex dance scene.<br /><br />Bottom line, this movie is for people who like MJ on one level or another (which i think is most people). If not, then stay away. It does try and give off a wholesome message and ironically MJ's bestest buddy in this movie is a girl! Michael Jackson is truly one of the most talented people ever to grace this planet but is he guilty? Well, with all the attention i've gave this subject....hmmm well i don't know because people can be different behind closed doors, i know this for a fact. He is either an extremely nice but stupid guy or one of the most sickest liars. I hope he is not the latter.\", 'class': '1'}\n"
     ]
    }
   ],
   "source": [
    "data_train = read_imdb(\"data/imdb_train.tsv\")\n",
    "data_test = read_imdb(\"data/imdb_test.tsv\")\n",
    "print(data_train[0])"
   ]
  },
  {
   "cell_type": "markdown",
   "metadata": {},
   "source": [
    "This data looks good otherwise, but the `<br />` markers will mess our stuff up, let us replace them with spaces. We could also replace class 1 with positive, and class 0 with negative to make more readable class labels."
   ]
  },
  {
   "cell_type": "code",
   "execution_count": 38,
   "metadata": {},
   "outputs": [],
   "source": [
    "import csv\n",
    "\n",
    "def read_imdb(file_name):\n",
    "    \"\"\" Read IMDB Sentiment CSV data file and return as JSON \"\"\"\n",
    "    print(\"Reading\", file_name)\n",
    "    data = []\n",
    "    csvfile = open(file_name, 'r')\n",
    "    for i, line in enumerate(csv.DictReader(csvfile, delimiter=\"\\t\")):\n",
    "        if i % 1000 == 999:\n",
    "            print(i+1, \"comments\")\n",
    "        one_example={}\n",
    "        one_example[\"text\"]=line['review'].replace(\"<br />\",\" \") # Replacement happens here\n",
    "        if 'sentiment' in line:\n",
    "            if line['sentiment']=='1':\n",
    "                one_example['class'] = 'pos'\n",
    "            elif line['sentiment']=='0':\n",
    "                one_example['class'] = 'neg'\n",
    "            else:\n",
    "                assert False, (\"Unknown sentiment\", line['sentiment'])\n",
    "        data.append(one_example)\n",
    "    return data\n"
   ]
  },
  {
   "cell_type": "code",
   "execution_count": 39,
   "metadata": {},
   "outputs": [
    {
     "name": "stdout",
     "output_type": "stream",
     "text": [
      "Reading data/imdb_train.tsv\n",
      "1000 comments\n",
      "2000 comments\n",
      "3000 comments\n",
      "4000 comments\n",
      "5000 comments\n",
      "6000 comments\n",
      "7000 comments\n",
      "8000 comments\n",
      "9000 comments\n",
      "10000 comments\n",
      "11000 comments\n",
      "12000 comments\n",
      "13000 comments\n",
      "14000 comments\n",
      "15000 comments\n",
      "16000 comments\n",
      "17000 comments\n",
      "18000 comments\n",
      "19000 comments\n",
      "20000 comments\n",
      "21000 comments\n",
      "22000 comments\n",
      "23000 comments\n",
      "24000 comments\n",
      "25000 comments\n",
      "Reading data/imdb_test.tsv\n",
      "1000 comments\n",
      "2000 comments\n",
      "3000 comments\n",
      "4000 comments\n",
      "5000 comments\n",
      "6000 comments\n",
      "7000 comments\n",
      "8000 comments\n",
      "9000 comments\n",
      "10000 comments\n",
      "11000 comments\n",
      "12000 comments\n",
      "13000 comments\n",
      "14000 comments\n",
      "15000 comments\n",
      "16000 comments\n",
      "17000 comments\n",
      "18000 comments\n",
      "19000 comments\n",
      "20000 comments\n",
      "21000 comments\n",
      "22000 comments\n",
      "23000 comments\n",
      "24000 comments\n",
      "25000 comments\n",
      "{'text': \"With all this stuff going down at the moment with MJ i've started listening to his music, watching the odd documentary here and there, watched The Wiz and watched Moonwalker again. Maybe i just want to get a certain insight into this guy who i thought was really cool in the eighties just to maybe make up my mind whether he is guilty or innocent. Moonwalker is part biography, part feature film which i remember going to see at the cinema when it was originally released. Some of it has subtle messages about MJ's feeling towards the press and also the obvious message of drugs are bad m'kay.  Visually impressive but of course this is all about Michael Jackson so unless you remotely like MJ in anyway then you are going to hate this and find it boring. Some may call MJ an egotist for consenting to the making of this movie BUT MJ and most of his fans would say that he made it for the fans which if true is really nice of him.  The actual feature film bit when it finally starts is only on for 20 minutes or so excluding the Smooth Criminal sequence and Joe Pesci is convincing as a psychopathic all powerful drug lord. Why he wants MJ dead so bad is beyond me. Because MJ overheard his plans? Nah, Joe Pesci's character ranted that he wanted people to know it is he who is supplying drugs etc so i dunno, maybe he just hates MJ's music.  Lots of cool things in this like MJ turning into a car and a robot and the whole Speed Demon sequence. Also, the director must have had the patience of a saint when it came to filming the kiddy Bad sequence as usually directors hate working with one kid let alone a whole bunch of them performing a complex dance scene.  Bottom line, this movie is for people who like MJ on one level or another (which i think is most people). If not, then stay away. It does try and give off a wholesome message and ironically MJ's bestest buddy in this movie is a girl! Michael Jackson is truly one of the most talented people ever to grace this planet but is he guilty? Well, with all the attention i've gave this subject....hmmm well i don't know because people can be different behind closed doors, i know this for a fact. He is either an extremely nice but stupid guy or one of the most sickest liars. I hope he is not the latter.\", 'class': 'pos'}\n"
     ]
    }
   ],
   "source": [
    "data_train = read_imdb(\"data/imdb_train.tsv\")\n",
    "data_test = read_imdb(\"data/imdb_test.tsv\")\n",
    "print(data_train[0])"
   ]
  },
  {
   "cell_type": "markdown",
   "metadata": {},
   "source": [
    "This looks good, so let's save this data into a json file for later use."
   ]
  },
  {
   "cell_type": "code",
   "execution_count": 41,
   "metadata": {},
   "outputs": [
    {
     "name": "stdout",
     "output_type": "stream",
     "text": [
      "{'text': \"With all this stuff going down at the moment with MJ i've started listening to his music, watching the odd documentary here and there, watched The Wiz and watched Moonwalker again. Maybe i just want to get a certain insight into this guy who i thought was really cool in the eighties just to maybe make up my mind whether he is guilty or innocent. Moonwalker is part biography, part feature film which i remember going to see at the cinema when it was originally released. Some of it has subtle messages about MJ's feeling towards the press and also the obvious message of drugs are bad m'kay.  Visually impressive but of course this is all about Michael Jackson so unless you remotely like MJ in anyway then you are going to hate this and find it boring. Some may call MJ an egotist for consenting to the making of this movie BUT MJ and most of his fans would say that he made it for the fans which if true is really nice of him.  The actual feature film bit when it finally starts is only on for 20 minutes or so excluding the Smooth Criminal sequence and Joe Pesci is convincing as a psychopathic all powerful drug lord. Why he wants MJ dead so bad is beyond me. Because MJ overheard his plans? Nah, Joe Pesci's character ranted that he wanted people to know it is he who is supplying drugs etc so i dunno, maybe he just hates MJ's music.  Lots of cool things in this like MJ turning into a car and a robot and the whole Speed Demon sequence. Also, the director must have had the patience of a saint when it came to filming the kiddy Bad sequence as usually directors hate working with one kid let alone a whole bunch of them performing a complex dance scene.  Bottom line, this movie is for people who like MJ on one level or another (which i think is most people). If not, then stay away. It does try and give off a wholesome message and ironically MJ's bestest buddy in this movie is a girl! Michael Jackson is truly one of the most talented people ever to grace this planet but is he guilty? Well, with all the attention i've gave this subject....hmmm well i don't know because people can be different behind closed doors, i know this for a fact. He is either an extremely nice but stupid guy or one of the most sickest liars. I hope he is not the latter.\", 'class': 'pos'}\n"
     ]
    }
   ],
   "source": [
    "import json\n",
    "\n",
    "print(data_train[0])\n",
    "with open(\"data/imdb_train.json\",\"wt\") as f:\n",
    "    json.dump(data_train,f,indent=2)\n",
    "with open(\"data/imdb_test.json\",\"wt\") as f:\n",
    "    json.dump(data_test,f,indent=2)\n"
   ]
  }
 ],
 "metadata": {
  "kernelspec": {
   "display_name": "Python 3",
   "language": "python",
   "name": "python3"
  },
  "language_info": {
   "codemirror_mode": {
    "name": "ipython",
    "version": 3
   },
   "file_extension": ".py",
   "mimetype": "text/x-python",
   "name": "python",
   "nbconvert_exporter": "python",
   "pygments_lexer": "ipython3",
   "version": "3.6.3"
  }
 },
 "nbformat": 4,
 "nbformat_minor": 2
}
